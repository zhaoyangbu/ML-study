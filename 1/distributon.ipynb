{
 "cells": [
  {
   "cell_type": "code",
   "execution_count": 112,
   "metadata": {},
   "outputs": [
    {
     "name": "stdout",
     "output_type": "stream",
     "text": [
      "[0.106 0.417 0.477]\n",
      "[0.106 0.417 0.477 0.106 0.417 0.477]\n",
      "[0.106 0.417 0.477 0.106 0.417 0.477 0.106 0.417 0.477]\n"
     ]
    }
   ],
   "source": [
    "import numpy as np\n",
    "from numpy import random\n",
    "n=[0,1,2]\n",
    "p=[0.1, 0.4, 0.5]\n",
    "cdf=[0.1, 0.5, 1]\n",
    "\n",
    "x = np.random.uniform(0,1,1000)\n",
    "\n",
    "M = []\n",
    "def sample(M,p):\n",
    "    for i in x:\n",
    "        if i<=0.1:\n",
    "            M.append(0)\n",
    "        elif 0.1<i<=0.5:\n",
    "            M.append(1)\n",
    "        else:\n",
    "            M.append(2)\n",
    "    return M\n",
    "\n",
    "sample(M,p)\n",
    "\n",
    "unique_data = np.unique(M)\n",
    "resdata = []\n",
    "for j in unique_data:\n",
    "    resdata.append(M.count(0))\n",
    "    resdata.append(M.count(1))\n",
    "    resdata.append(M.count(2))\n",
    "    a=np.array(resdata)\n",
    "    pb=a/1000\n",
    "    print(pb)\n",
    "    \n",
    "    \n",
    "\n",
    "\n"
   ]
  },
  {
   "cell_type": "code",
   "execution_count": null,
   "metadata": {},
   "outputs": [],
   "source": []
  },
  {
   "cell_type": "code",
   "execution_count": null,
   "metadata": {},
   "outputs": [],
   "source": []
  },
  {
   "cell_type": "code",
   "execution_count": null,
   "metadata": {},
   "outputs": [],
   "source": []
  },
  {
   "cell_type": "code",
   "execution_count": null,
   "metadata": {},
   "outputs": [],
   "source": []
  },
  {
   "cell_type": "code",
   "execution_count": null,
   "metadata": {},
   "outputs": [],
   "source": []
  }
 ],
 "metadata": {
  "kernelspec": {
   "display_name": "Python 3",
   "language": "python",
   "name": "python3"
  },
  "language_info": {
   "codemirror_mode": {
    "name": "ipython",
    "version": 3
   },
   "file_extension": ".py",
   "mimetype": "text/x-python",
   "name": "python",
   "nbconvert_exporter": "python",
   "pygments_lexer": "ipython3",
   "version": "3.7.6"
  }
 },
 "nbformat": 4,
 "nbformat_minor": 2
}
