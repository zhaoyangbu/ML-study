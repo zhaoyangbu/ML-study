{
 "cells": [
  {
   "cell_type": "code",
   "execution_count": 22,
   "metadata": {},
   "outputs": [
    {
     "name": "stdout",
     "output_type": "stream",
     "text": [
      "clf1 vs clf2: 0.0029719303658892054\n",
      "clf2 vs clf3: 0.7769610566283521\n",
      "clf3 vs clf4: 0.6906876305287424\n",
      "clf4 vs clf5: 0.9992092227010478\n",
      "clf5 vs clf6: 0.91267490174477\n",
      "clf6 vs clf1: 0.018847201321239137\n",
      "clf1 vs clf3: 0.0014814387560163015\n",
      "clf1 vs clf4: 0.0010590413258717258\n",
      "clf1 vs clf5: 0.9789149797306406\n"
     ]
    }
   ],
   "source": [
    "import pandas as pd\n",
    "import numpy as np\n",
    "import scipy.stats as stats\n",
    "\n",
    "filename = 'hw1-scores.txt'\n",
    "data = np.loadtxt(filename, delimiter=',')\n",
    "#print(data)\n",
    "\n",
    "x1=data[:,0]\n",
    "x2=data[:,1]\n",
    "x3=data[:,2]\n",
    "x4=data[:,3]\n",
    "x5=data[:,4]\n",
    "x6=data[:,5]\n",
    "\n",
    "z1, p1=stats.wilcoxon(x1,x2,correction=True,alternative='greater')\n",
    "z2, p2=stats.wilcoxon(x2,x3,correction=True,alternative='greater')\n",
    "z3, p3=stats.wilcoxon(x3,x4,correction=True,alternative='greater')\n",
    "z4, p4=stats.wilcoxon(x4,x5,correction=True,alternative='greater')\n",
    "z5, p5=stats.wilcoxon(x5,x6,correction=True,alternative='greater')\n",
    "z6, p6=stats.wilcoxon(x6,x1,correction=True,alternative='greater')\n",
    "\n",
    "print(\"clf1 vs clf2:\",p1)\n",
    "print(\"clf2 vs clf3:\",p2)\n",
    "print(\"clf3 vs clf4:\",p3)\n",
    "print(\"clf4 vs clf5:\",p4)\n",
    "print(\"clf5 vs clf6:\",p5)\n",
    "print(\"clf6 vs clf1:\",p6)\n",
    "\n",
    "z7, p7=stats.wilcoxon(x1,x3,correction=True,alternative='greater')\n",
    "print(\"clf1 vs clf3:\",p7)\n",
    "\n",
    "z8, p8=stats.wilcoxon(x1,x4,correction=True,alternative='greater')\n",
    "print(\"clf1 vs clf4:\",p8)\n",
    "\n",
    "z9, p9=stats.wilcoxon(x1,x5,correction=True,alternative='greater')\n",
    "print(\"clf1 vs clf5:\",p9)\n",
    "\n"
   ]
  },
  {
   "cell_type": "code",
   "execution_count": null,
   "metadata": {},
   "outputs": [],
   "source": []
  },
  {
   "cell_type": "code",
   "execution_count": null,
   "metadata": {},
   "outputs": [],
   "source": []
  },
  {
   "cell_type": "code",
   "execution_count": null,
   "metadata": {},
   "outputs": [],
   "source": []
  }
 ],
 "metadata": {
  "kernelspec": {
   "display_name": "Python 3",
   "language": "python",
   "name": "python3"
  },
  "language_info": {
   "codemirror_mode": {
    "name": "ipython",
    "version": 3
   },
   "file_extension": ".py",
   "mimetype": "text/x-python",
   "name": "python",
   "nbconvert_exporter": "python",
   "pygments_lexer": "ipython3",
   "version": "3.7.6"
  }
 },
 "nbformat": 4,
 "nbformat_minor": 2
}
