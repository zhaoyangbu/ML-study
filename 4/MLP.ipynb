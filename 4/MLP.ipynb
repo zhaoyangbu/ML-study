{
 "cells": [
  {
   "cell_type": "code",
   "execution_count": 5,
   "metadata": {},
   "outputs": [
    {
     "name": "stdout",
     "output_type": "stream",
     "text": [
      "Extracting MNIST_data/train-images-idx3-ubyte.gz\n",
      "Extracting MNIST_data/train-labels-idx1-ubyte.gz\n",
      "Extracting MNIST_data/t10k-images-idx3-ubyte.gz\n",
      "Extracting MNIST_data/t10k-labels-idx1-ubyte.gz\n",
      "Step: 0 (Total: 20000)\n",
      "Step: 2000 (Total: 20000)\n",
      "Step: 4000 (Total: 20000)\n",
      "Step: 6000 (Total: 20000)\n",
      "Step: 8000 (Total: 20000)\n",
      "Step: 10000 (Total: 20000)\n",
      "Step: 12000 (Total: 20000)\n",
      "Step: 14000 (Total: 20000)\n",
      "Step: 16000 (Total: 20000)\n",
      "Step: 18000 (Total: 20000)\n",
      "Optimization Finished!\n",
      "When the size of hidden layer is  50 , the classification error of training data is: 0.01154547929763794\n",
      "When the size of hidden layer is  50 , the classification error of testing data is: 0.03930002450942993\n"
     ]
    }
   ],
   "source": [
    "import numpy as np\n",
    "import pandas as pd\n",
    "import matplotlib.pyplot as plt\n",
    "import tensorflow.compat.v1 as tf\n",
    "tf.disable_v2_behavior()\n",
    "from tensorflow.examples.tutorials.mnist import input_data\n",
    "mnist = input_data.read_data_sets(\"MNIST_data/\", one_hot=True)\n",
    "\n",
    "x = tf.placeholder('float',[None,784])\n",
    "y = tf.placeholder('float',[None,10])\n",
    "\n",
    "learning_rate = 0.01\n",
    "batch_size = 100\n",
    "hidden=50\n",
    "iterations=10\n",
    "regu=0.01\n",
    "\n",
    "weights = {\n",
    "    'weight_1': tf.Variable(tf.random_normal([784,hidden])),\n",
    "    'weight_2': tf.Variable(tf.random_normal([hidden,10]))\n",
    "}\n",
    "biases = {\n",
    "    'bias_1': tf.Variable(tf.random_normal([hidden])),\n",
    "    'bias_2': tf.Variable(tf.random_normal([10])),\n",
    "}\n",
    "\n",
    "layer_1=tf.nn.relu(tf.matmul(x, weights['weight_1']) +  biases['bias_1'])\n",
    "layer_2=tf.matmul(layer_1, weights['weight_2']) + biases['bias_2']\n",
    "\n",
    "loss = tf.reduce_mean(tf.nn.softmax_cross_entropy_with_logits(logits=layer_2, labels=y))\n",
    "#loss = tf.reduce_mean(tf.nn.softmax_cross_entropy_with_logits(logits=layer_2, labels=y) + regu*tf.nn.l2_loss(weights['weight_2']))\n",
    "train_step = tf.train.AdamOptimizer(learning_rate).minimize(loss)\n",
    "init = tf.global_variables_initializer()\n",
    "\n",
    "with tf.Session() as sess:\n",
    "    sess.run(init)\n",
    "    for i in range(20000):\n",
    "        batch_x, batch_y = mnist.train.next_batch(batch_size)\n",
    "        sess.run([train_step, loss], feed_dict={x: batch_x, y: batch_y})\n",
    "        if i % 2000 == 0:\n",
    "            print (\"Step: %d (Total: 20000)\"% (i))\n",
    "    print (\"Optimization Finished!\")\n",
    "    \n",
    "    prediction = tf.equal(tf.argmax(layer_2, 1), tf.argmax(y, 1))\n",
    "    accuracy = tf.reduce_mean(tf.cast(prediction,  tf.float32))\n",
    "    print (\"When the size of hidden layer is \",hidden,\", the classification error of training data is:\",\n",
    "           1 - (accuracy.eval({x: mnist.train.images, y: mnist.train.labels})))\n",
    "    print (\"When the size of hidden layer is \",hidden,\", the classification error of testing data is:\",\n",
    "           1 - (accuracy.eval({x: mnist.test.images, y: mnist.test.labels})))\n"
   ]
  },
  {
   "cell_type": "code",
   "execution_count": null,
   "metadata": {},
   "outputs": [],
   "source": []
  },
  {
   "cell_type": "code",
   "execution_count": null,
   "metadata": {},
   "outputs": [],
   "source": []
  },
  {
   "cell_type": "code",
   "execution_count": null,
   "metadata": {},
   "outputs": [],
   "source": []
  },
  {
   "cell_type": "code",
   "execution_count": null,
   "metadata": {},
   "outputs": [],
   "source": []
  },
  {
   "cell_type": "code",
   "execution_count": null,
   "metadata": {},
   "outputs": [],
   "source": []
  },
  {
   "cell_type": "code",
   "execution_count": null,
   "metadata": {},
   "outputs": [],
   "source": []
  }
 ],
 "metadata": {
  "kernelspec": {
   "display_name": "Python 3",
   "language": "python",
   "name": "python3"
  }
 },
 "nbformat": 4,
 "nbformat_minor": 2
}
