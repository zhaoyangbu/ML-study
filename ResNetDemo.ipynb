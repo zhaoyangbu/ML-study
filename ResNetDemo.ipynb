{
  "nbformat": 4,
  "nbformat_minor": 0,
  "metadata": {
    "colab": {
      "name": "ResNetDemo.ipynb",
      "provenance": [],
      "authorship_tag": "ABX9TyOTFI2uoiWZr0myDSCMalmY",
      "include_colab_link": true
    },
    "kernelspec": {
      "name": "python3",
      "display_name": "Python 3"
    },
    "language_info": {
      "name": "python"
    },
    "accelerator": "GPU",
    "widgets": {
      "application/vnd.jupyter.widget-state+json": {
        "8f2c6de9342e4d36af1e17c999864d8a": {
          "model_module": "@jupyter-widgets/controls",
          "model_name": "HBoxModel",
          "model_module_version": "1.5.0",
          "state": {
            "_view_name": "HBoxView",
            "_dom_classes": [],
            "_model_name": "HBoxModel",
            "_view_module": "@jupyter-widgets/controls",
            "_model_module_version": "1.5.0",
            "_view_count": null,
            "_view_module_version": "1.5.0",
            "box_style": "",
            "layout": "IPY_MODEL_fbb6743086344cf787479cdf65aefb3a",
            "_model_module": "@jupyter-widgets/controls",
            "children": [
              "IPY_MODEL_548f77fc17814a68bba15c64172140d8",
              "IPY_MODEL_58d1fcbf30db40a6acdd4cf19d28c674"
            ]
          }
        },
        "fbb6743086344cf787479cdf65aefb3a": {
          "model_module": "@jupyter-widgets/base",
          "model_name": "LayoutModel",
          "model_module_version": "1.2.0",
          "state": {
            "_view_name": "LayoutView",
            "grid_template_rows": null,
            "right": null,
            "justify_content": null,
            "_view_module": "@jupyter-widgets/base",
            "overflow": null,
            "_model_module_version": "1.2.0",
            "_view_count": null,
            "flex_flow": null,
            "width": null,
            "min_width": null,
            "border": null,
            "align_items": null,
            "bottom": null,
            "_model_module": "@jupyter-widgets/base",
            "top": null,
            "grid_column": null,
            "overflow_y": null,
            "overflow_x": null,
            "grid_auto_flow": null,
            "grid_area": null,
            "grid_template_columns": null,
            "flex": null,
            "_model_name": "LayoutModel",
            "justify_items": null,
            "grid_row": null,
            "max_height": null,
            "align_content": null,
            "visibility": null,
            "align_self": null,
            "height": null,
            "min_height": null,
            "padding": null,
            "grid_auto_rows": null,
            "grid_gap": null,
            "max_width": null,
            "order": null,
            "_view_module_version": "1.2.0",
            "grid_template_areas": null,
            "object_position": null,
            "object_fit": null,
            "grid_auto_columns": null,
            "margin": null,
            "display": null,
            "left": null
          }
        },
        "548f77fc17814a68bba15c64172140d8": {
          "model_module": "@jupyter-widgets/controls",
          "model_name": "FloatProgressModel",
          "model_module_version": "1.5.0",
          "state": {
            "_view_name": "ProgressView",
            "style": "IPY_MODEL_9cf276c0a44f49c7987c59b0af04823e",
            "_dom_classes": [],
            "description": "",
            "_model_name": "FloatProgressModel",
            "bar_style": "success",
            "max": 26421880,
            "_view_module": "@jupyter-widgets/controls",
            "_model_module_version": "1.5.0",
            "value": 26421880,
            "_view_count": null,
            "_view_module_version": "1.5.0",
            "orientation": "horizontal",
            "min": 0,
            "description_tooltip": null,
            "_model_module": "@jupyter-widgets/controls",
            "layout": "IPY_MODEL_22258198d61349bb9a72437c66dfc6bf"
          }
        },
        "58d1fcbf30db40a6acdd4cf19d28c674": {
          "model_module": "@jupyter-widgets/controls",
          "model_name": "HTMLModel",
          "model_module_version": "1.5.0",
          "state": {
            "_view_name": "HTMLView",
            "style": "IPY_MODEL_0f1fde67e8da4b5984b2a8e51dc250fc",
            "_dom_classes": [],
            "description": "",
            "_model_name": "HTMLModel",
            "placeholder": "​",
            "_view_module": "@jupyter-widgets/controls",
            "_model_module_version": "1.5.0",
            "value": " 26422272/? [00:00&lt;00:00, 26758657.67it/s]",
            "_view_count": null,
            "_view_module_version": "1.5.0",
            "description_tooltip": null,
            "_model_module": "@jupyter-widgets/controls",
            "layout": "IPY_MODEL_746c9cc659274f1cbd96ad869ae66635"
          }
        },
        "9cf276c0a44f49c7987c59b0af04823e": {
          "model_module": "@jupyter-widgets/controls",
          "model_name": "ProgressStyleModel",
          "model_module_version": "1.5.0",
          "state": {
            "_view_name": "StyleView",
            "_model_name": "ProgressStyleModel",
            "description_width": "initial",
            "_view_module": "@jupyter-widgets/base",
            "_model_module_version": "1.5.0",
            "_view_count": null,
            "_view_module_version": "1.2.0",
            "bar_color": null,
            "_model_module": "@jupyter-widgets/controls"
          }
        },
        "22258198d61349bb9a72437c66dfc6bf": {
          "model_module": "@jupyter-widgets/base",
          "model_name": "LayoutModel",
          "model_module_version": "1.2.0",
          "state": {
            "_view_name": "LayoutView",
            "grid_template_rows": null,
            "right": null,
            "justify_content": null,
            "_view_module": "@jupyter-widgets/base",
            "overflow": null,
            "_model_module_version": "1.2.0",
            "_view_count": null,
            "flex_flow": null,
            "width": null,
            "min_width": null,
            "border": null,
            "align_items": null,
            "bottom": null,
            "_model_module": "@jupyter-widgets/base",
            "top": null,
            "grid_column": null,
            "overflow_y": null,
            "overflow_x": null,
            "grid_auto_flow": null,
            "grid_area": null,
            "grid_template_columns": null,
            "flex": null,
            "_model_name": "LayoutModel",
            "justify_items": null,
            "grid_row": null,
            "max_height": null,
            "align_content": null,
            "visibility": null,
            "align_self": null,
            "height": null,
            "min_height": null,
            "padding": null,
            "grid_auto_rows": null,
            "grid_gap": null,
            "max_width": null,
            "order": null,
            "_view_module_version": "1.2.0",
            "grid_template_areas": null,
            "object_position": null,
            "object_fit": null,
            "grid_auto_columns": null,
            "margin": null,
            "display": null,
            "left": null
          }
        },
        "0f1fde67e8da4b5984b2a8e51dc250fc": {
          "model_module": "@jupyter-widgets/controls",
          "model_name": "DescriptionStyleModel",
          "model_module_version": "1.5.0",
          "state": {
            "_view_name": "StyleView",
            "_model_name": "DescriptionStyleModel",
            "description_width": "",
            "_view_module": "@jupyter-widgets/base",
            "_model_module_version": "1.5.0",
            "_view_count": null,
            "_view_module_version": "1.2.0",
            "_model_module": "@jupyter-widgets/controls"
          }
        },
        "746c9cc659274f1cbd96ad869ae66635": {
          "model_module": "@jupyter-widgets/base",
          "model_name": "LayoutModel",
          "model_module_version": "1.2.0",
          "state": {
            "_view_name": "LayoutView",
            "grid_template_rows": null,
            "right": null,
            "justify_content": null,
            "_view_module": "@jupyter-widgets/base",
            "overflow": null,
            "_model_module_version": "1.2.0",
            "_view_count": null,
            "flex_flow": null,
            "width": null,
            "min_width": null,
            "border": null,
            "align_items": null,
            "bottom": null,
            "_model_module": "@jupyter-widgets/base",
            "top": null,
            "grid_column": null,
            "overflow_y": null,
            "overflow_x": null,
            "grid_auto_flow": null,
            "grid_area": null,
            "grid_template_columns": null,
            "flex": null,
            "_model_name": "LayoutModel",
            "justify_items": null,
            "grid_row": null,
            "max_height": null,
            "align_content": null,
            "visibility": null,
            "align_self": null,
            "height": null,
            "min_height": null,
            "padding": null,
            "grid_auto_rows": null,
            "grid_gap": null,
            "max_width": null,
            "order": null,
            "_view_module_version": "1.2.0",
            "grid_template_areas": null,
            "object_position": null,
            "object_fit": null,
            "grid_auto_columns": null,
            "margin": null,
            "display": null,
            "left": null
          }
        },
        "11afcde03dfb42cb83a200c1744227bf": {
          "model_module": "@jupyter-widgets/controls",
          "model_name": "HBoxModel",
          "model_module_version": "1.5.0",
          "state": {
            "_view_name": "HBoxView",
            "_dom_classes": [],
            "_model_name": "HBoxModel",
            "_view_module": "@jupyter-widgets/controls",
            "_model_module_version": "1.5.0",
            "_view_count": null,
            "_view_module_version": "1.5.0",
            "box_style": "",
            "layout": "IPY_MODEL_a939023d5d254c3f8f8d1ac281055778",
            "_model_module": "@jupyter-widgets/controls",
            "children": [
              "IPY_MODEL_de5bf8fbb5104e9cb622c2cef3536c95",
              "IPY_MODEL_ded34e422e6b4fb58501e198367e0c88"
            ]
          }
        },
        "a939023d5d254c3f8f8d1ac281055778": {
          "model_module": "@jupyter-widgets/base",
          "model_name": "LayoutModel",
          "model_module_version": "1.2.0",
          "state": {
            "_view_name": "LayoutView",
            "grid_template_rows": null,
            "right": null,
            "justify_content": null,
            "_view_module": "@jupyter-widgets/base",
            "overflow": null,
            "_model_module_version": "1.2.0",
            "_view_count": null,
            "flex_flow": null,
            "width": null,
            "min_width": null,
            "border": null,
            "align_items": null,
            "bottom": null,
            "_model_module": "@jupyter-widgets/base",
            "top": null,
            "grid_column": null,
            "overflow_y": null,
            "overflow_x": null,
            "grid_auto_flow": null,
            "grid_area": null,
            "grid_template_columns": null,
            "flex": null,
            "_model_name": "LayoutModel",
            "justify_items": null,
            "grid_row": null,
            "max_height": null,
            "align_content": null,
            "visibility": null,
            "align_self": null,
            "height": null,
            "min_height": null,
            "padding": null,
            "grid_auto_rows": null,
            "grid_gap": null,
            "max_width": null,
            "order": null,
            "_view_module_version": "1.2.0",
            "grid_template_areas": null,
            "object_position": null,
            "object_fit": null,
            "grid_auto_columns": null,
            "margin": null,
            "display": null,
            "left": null
          }
        },
        "de5bf8fbb5104e9cb622c2cef3536c95": {
          "model_module": "@jupyter-widgets/controls",
          "model_name": "FloatProgressModel",
          "model_module_version": "1.5.0",
          "state": {
            "_view_name": "ProgressView",
            "style": "IPY_MODEL_68f8e21252c04c90b7e5f0dacc3daa4d",
            "_dom_classes": [],
            "description": "",
            "_model_name": "FloatProgressModel",
            "bar_style": "success",
            "max": 29515,
            "_view_module": "@jupyter-widgets/controls",
            "_model_module_version": "1.5.0",
            "value": 29515,
            "_view_count": null,
            "_view_module_version": "1.5.0",
            "orientation": "horizontal",
            "min": 0,
            "description_tooltip": null,
            "_model_module": "@jupyter-widgets/controls",
            "layout": "IPY_MODEL_d1237208323845cba360b92b8b0891e4"
          }
        },
        "ded34e422e6b4fb58501e198367e0c88": {
          "model_module": "@jupyter-widgets/controls",
          "model_name": "HTMLModel",
          "model_module_version": "1.5.0",
          "state": {
            "_view_name": "HTMLView",
            "style": "IPY_MODEL_cb08c078ae2d4cb0bcae1410c38f92b3",
            "_dom_classes": [],
            "description": "",
            "_model_name": "HTMLModel",
            "placeholder": "​",
            "_view_module": "@jupyter-widgets/controls",
            "_model_module_version": "1.5.0",
            "value": " 29696/? [00:00&lt;00:00, 54629.78it/s]",
            "_view_count": null,
            "_view_module_version": "1.5.0",
            "description_tooltip": null,
            "_model_module": "@jupyter-widgets/controls",
            "layout": "IPY_MODEL_08e901412b9744789a5b166e157db2e1"
          }
        },
        "68f8e21252c04c90b7e5f0dacc3daa4d": {
          "model_module": "@jupyter-widgets/controls",
          "model_name": "ProgressStyleModel",
          "model_module_version": "1.5.0",
          "state": {
            "_view_name": "StyleView",
            "_model_name": "ProgressStyleModel",
            "description_width": "initial",
            "_view_module": "@jupyter-widgets/base",
            "_model_module_version": "1.5.0",
            "_view_count": null,
            "_view_module_version": "1.2.0",
            "bar_color": null,
            "_model_module": "@jupyter-widgets/controls"
          }
        },
        "d1237208323845cba360b92b8b0891e4": {
          "model_module": "@jupyter-widgets/base",
          "model_name": "LayoutModel",
          "model_module_version": "1.2.0",
          "state": {
            "_view_name": "LayoutView",
            "grid_template_rows": null,
            "right": null,
            "justify_content": null,
            "_view_module": "@jupyter-widgets/base",
            "overflow": null,
            "_model_module_version": "1.2.0",
            "_view_count": null,
            "flex_flow": null,
            "width": null,
            "min_width": null,
            "border": null,
            "align_items": null,
            "bottom": null,
            "_model_module": "@jupyter-widgets/base",
            "top": null,
            "grid_column": null,
            "overflow_y": null,
            "overflow_x": null,
            "grid_auto_flow": null,
            "grid_area": null,
            "grid_template_columns": null,
            "flex": null,
            "_model_name": "LayoutModel",
            "justify_items": null,
            "grid_row": null,
            "max_height": null,
            "align_content": null,
            "visibility": null,
            "align_self": null,
            "height": null,
            "min_height": null,
            "padding": null,
            "grid_auto_rows": null,
            "grid_gap": null,
            "max_width": null,
            "order": null,
            "_view_module_version": "1.2.0",
            "grid_template_areas": null,
            "object_position": null,
            "object_fit": null,
            "grid_auto_columns": null,
            "margin": null,
            "display": null,
            "left": null
          }
        },
        "cb08c078ae2d4cb0bcae1410c38f92b3": {
          "model_module": "@jupyter-widgets/controls",
          "model_name": "DescriptionStyleModel",
          "model_module_version": "1.5.0",
          "state": {
            "_view_name": "StyleView",
            "_model_name": "DescriptionStyleModel",
            "description_width": "",
            "_view_module": "@jupyter-widgets/base",
            "_model_module_version": "1.5.0",
            "_view_count": null,
            "_view_module_version": "1.2.0",
            "_model_module": "@jupyter-widgets/controls"
          }
        },
        "08e901412b9744789a5b166e157db2e1": {
          "model_module": "@jupyter-widgets/base",
          "model_name": "LayoutModel",
          "model_module_version": "1.2.0",
          "state": {
            "_view_name": "LayoutView",
            "grid_template_rows": null,
            "right": null,
            "justify_content": null,
            "_view_module": "@jupyter-widgets/base",
            "overflow": null,
            "_model_module_version": "1.2.0",
            "_view_count": null,
            "flex_flow": null,
            "width": null,
            "min_width": null,
            "border": null,
            "align_items": null,
            "bottom": null,
            "_model_module": "@jupyter-widgets/base",
            "top": null,
            "grid_column": null,
            "overflow_y": null,
            "overflow_x": null,
            "grid_auto_flow": null,
            "grid_area": null,
            "grid_template_columns": null,
            "flex": null,
            "_model_name": "LayoutModel",
            "justify_items": null,
            "grid_row": null,
            "max_height": null,
            "align_content": null,
            "visibility": null,
            "align_self": null,
            "height": null,
            "min_height": null,
            "padding": null,
            "grid_auto_rows": null,
            "grid_gap": null,
            "max_width": null,
            "order": null,
            "_view_module_version": "1.2.0",
            "grid_template_areas": null,
            "object_position": null,
            "object_fit": null,
            "grid_auto_columns": null,
            "margin": null,
            "display": null,
            "left": null
          }
        },
        "cae027f3fc8b49c5bfdab76727406492": {
          "model_module": "@jupyter-widgets/controls",
          "model_name": "HBoxModel",
          "model_module_version": "1.5.0",
          "state": {
            "_view_name": "HBoxView",
            "_dom_classes": [],
            "_model_name": "HBoxModel",
            "_view_module": "@jupyter-widgets/controls",
            "_model_module_version": "1.5.0",
            "_view_count": null,
            "_view_module_version": "1.5.0",
            "box_style": "",
            "layout": "IPY_MODEL_dbf30ddf65bb435a805a23f01d643596",
            "_model_module": "@jupyter-widgets/controls",
            "children": [
              "IPY_MODEL_048201101ae743a3a238e8727b0acc08",
              "IPY_MODEL_e2a0aeb847134cafb42a7bc1651fbe31"
            ]
          }
        },
        "dbf30ddf65bb435a805a23f01d643596": {
          "model_module": "@jupyter-widgets/base",
          "model_name": "LayoutModel",
          "model_module_version": "1.2.0",
          "state": {
            "_view_name": "LayoutView",
            "grid_template_rows": null,
            "right": null,
            "justify_content": null,
            "_view_module": "@jupyter-widgets/base",
            "overflow": null,
            "_model_module_version": "1.2.0",
            "_view_count": null,
            "flex_flow": null,
            "width": null,
            "min_width": null,
            "border": null,
            "align_items": null,
            "bottom": null,
            "_model_module": "@jupyter-widgets/base",
            "top": null,
            "grid_column": null,
            "overflow_y": null,
            "overflow_x": null,
            "grid_auto_flow": null,
            "grid_area": null,
            "grid_template_columns": null,
            "flex": null,
            "_model_name": "LayoutModel",
            "justify_items": null,
            "grid_row": null,
            "max_height": null,
            "align_content": null,
            "visibility": null,
            "align_self": null,
            "height": null,
            "min_height": null,
            "padding": null,
            "grid_auto_rows": null,
            "grid_gap": null,
            "max_width": null,
            "order": null,
            "_view_module_version": "1.2.0",
            "grid_template_areas": null,
            "object_position": null,
            "object_fit": null,
            "grid_auto_columns": null,
            "margin": null,
            "display": null,
            "left": null
          }
        },
        "048201101ae743a3a238e8727b0acc08": {
          "model_module": "@jupyter-widgets/controls",
          "model_name": "FloatProgressModel",
          "model_module_version": "1.5.0",
          "state": {
            "_view_name": "ProgressView",
            "style": "IPY_MODEL_e9e305c1fec84c2385b81a5c482d9eed",
            "_dom_classes": [],
            "description": "",
            "_model_name": "FloatProgressModel",
            "bar_style": "success",
            "max": 4422102,
            "_view_module": "@jupyter-widgets/controls",
            "_model_module_version": "1.5.0",
            "value": 4422102,
            "_view_count": null,
            "_view_module_version": "1.5.0",
            "orientation": "horizontal",
            "min": 0,
            "description_tooltip": null,
            "_model_module": "@jupyter-widgets/controls",
            "layout": "IPY_MODEL_d7c439aad6c64fbf88f060b06934e987"
          }
        },
        "e2a0aeb847134cafb42a7bc1651fbe31": {
          "model_module": "@jupyter-widgets/controls",
          "model_name": "HTMLModel",
          "model_module_version": "1.5.0",
          "state": {
            "_view_name": "HTMLView",
            "style": "IPY_MODEL_e4eaf17d988b47b295ebf20578a5198d",
            "_dom_classes": [],
            "description": "",
            "_model_name": "HTMLModel",
            "placeholder": "​",
            "_view_module": "@jupyter-widgets/controls",
            "_model_module_version": "1.5.0",
            "value": " 4422656/? [00:00&lt;00:00, 11700280.34it/s]",
            "_view_count": null,
            "_view_module_version": "1.5.0",
            "description_tooltip": null,
            "_model_module": "@jupyter-widgets/controls",
            "layout": "IPY_MODEL_02bddd00219c4268b13b1777e65071aa"
          }
        },
        "e9e305c1fec84c2385b81a5c482d9eed": {
          "model_module": "@jupyter-widgets/controls",
          "model_name": "ProgressStyleModel",
          "model_module_version": "1.5.0",
          "state": {
            "_view_name": "StyleView",
            "_model_name": "ProgressStyleModel",
            "description_width": "initial",
            "_view_module": "@jupyter-widgets/base",
            "_model_module_version": "1.5.0",
            "_view_count": null,
            "_view_module_version": "1.2.0",
            "bar_color": null,
            "_model_module": "@jupyter-widgets/controls"
          }
        },
        "d7c439aad6c64fbf88f060b06934e987": {
          "model_module": "@jupyter-widgets/base",
          "model_name": "LayoutModel",
          "model_module_version": "1.2.0",
          "state": {
            "_view_name": "LayoutView",
            "grid_template_rows": null,
            "right": null,
            "justify_content": null,
            "_view_module": "@jupyter-widgets/base",
            "overflow": null,
            "_model_module_version": "1.2.0",
            "_view_count": null,
            "flex_flow": null,
            "width": null,
            "min_width": null,
            "border": null,
            "align_items": null,
            "bottom": null,
            "_model_module": "@jupyter-widgets/base",
            "top": null,
            "grid_column": null,
            "overflow_y": null,
            "overflow_x": null,
            "grid_auto_flow": null,
            "grid_area": null,
            "grid_template_columns": null,
            "flex": null,
            "_model_name": "LayoutModel",
            "justify_items": null,
            "grid_row": null,
            "max_height": null,
            "align_content": null,
            "visibility": null,
            "align_self": null,
            "height": null,
            "min_height": null,
            "padding": null,
            "grid_auto_rows": null,
            "grid_gap": null,
            "max_width": null,
            "order": null,
            "_view_module_version": "1.2.0",
            "grid_template_areas": null,
            "object_position": null,
            "object_fit": null,
            "grid_auto_columns": null,
            "margin": null,
            "display": null,
            "left": null
          }
        },
        "e4eaf17d988b47b295ebf20578a5198d": {
          "model_module": "@jupyter-widgets/controls",
          "model_name": "DescriptionStyleModel",
          "model_module_version": "1.5.0",
          "state": {
            "_view_name": "StyleView",
            "_model_name": "DescriptionStyleModel",
            "description_width": "",
            "_view_module": "@jupyter-widgets/base",
            "_model_module_version": "1.5.0",
            "_view_count": null,
            "_view_module_version": "1.2.0",
            "_model_module": "@jupyter-widgets/controls"
          }
        },
        "02bddd00219c4268b13b1777e65071aa": {
          "model_module": "@jupyter-widgets/base",
          "model_name": "LayoutModel",
          "model_module_version": "1.2.0",
          "state": {
            "_view_name": "LayoutView",
            "grid_template_rows": null,
            "right": null,
            "justify_content": null,
            "_view_module": "@jupyter-widgets/base",
            "overflow": null,
            "_model_module_version": "1.2.0",
            "_view_count": null,
            "flex_flow": null,
            "width": null,
            "min_width": null,
            "border": null,
            "align_items": null,
            "bottom": null,
            "_model_module": "@jupyter-widgets/base",
            "top": null,
            "grid_column": null,
            "overflow_y": null,
            "overflow_x": null,
            "grid_auto_flow": null,
            "grid_area": null,
            "grid_template_columns": null,
            "flex": null,
            "_model_name": "LayoutModel",
            "justify_items": null,
            "grid_row": null,
            "max_height": null,
            "align_content": null,
            "visibility": null,
            "align_self": null,
            "height": null,
            "min_height": null,
            "padding": null,
            "grid_auto_rows": null,
            "grid_gap": null,
            "max_width": null,
            "order": null,
            "_view_module_version": "1.2.0",
            "grid_template_areas": null,
            "object_position": null,
            "object_fit": null,
            "grid_auto_columns": null,
            "margin": null,
            "display": null,
            "left": null
          }
        },
        "50cc00ffc92c47b78f8d3863f0cb76d6": {
          "model_module": "@jupyter-widgets/controls",
          "model_name": "HBoxModel",
          "model_module_version": "1.5.0",
          "state": {
            "_view_name": "HBoxView",
            "_dom_classes": [],
            "_model_name": "HBoxModel",
            "_view_module": "@jupyter-widgets/controls",
            "_model_module_version": "1.5.0",
            "_view_count": null,
            "_view_module_version": "1.5.0",
            "box_style": "",
            "layout": "IPY_MODEL_7ca5c6c99a4c4c0b8b6244d1d117e5b5",
            "_model_module": "@jupyter-widgets/controls",
            "children": [
              "IPY_MODEL_f5c5882fed2f46f28db9d4b919766411",
              "IPY_MODEL_72adce55fa22495ca471f147bce9c646"
            ]
          }
        },
        "7ca5c6c99a4c4c0b8b6244d1d117e5b5": {
          "model_module": "@jupyter-widgets/base",
          "model_name": "LayoutModel",
          "model_module_version": "1.2.0",
          "state": {
            "_view_name": "LayoutView",
            "grid_template_rows": null,
            "right": null,
            "justify_content": null,
            "_view_module": "@jupyter-widgets/base",
            "overflow": null,
            "_model_module_version": "1.2.0",
            "_view_count": null,
            "flex_flow": null,
            "width": null,
            "min_width": null,
            "border": null,
            "align_items": null,
            "bottom": null,
            "_model_module": "@jupyter-widgets/base",
            "top": null,
            "grid_column": null,
            "overflow_y": null,
            "overflow_x": null,
            "grid_auto_flow": null,
            "grid_area": null,
            "grid_template_columns": null,
            "flex": null,
            "_model_name": "LayoutModel",
            "justify_items": null,
            "grid_row": null,
            "max_height": null,
            "align_content": null,
            "visibility": null,
            "align_self": null,
            "height": null,
            "min_height": null,
            "padding": null,
            "grid_auto_rows": null,
            "grid_gap": null,
            "max_width": null,
            "order": null,
            "_view_module_version": "1.2.0",
            "grid_template_areas": null,
            "object_position": null,
            "object_fit": null,
            "grid_auto_columns": null,
            "margin": null,
            "display": null,
            "left": null
          }
        },
        "f5c5882fed2f46f28db9d4b919766411": {
          "model_module": "@jupyter-widgets/controls",
          "model_name": "FloatProgressModel",
          "model_module_version": "1.5.0",
          "state": {
            "_view_name": "ProgressView",
            "style": "IPY_MODEL_0bd2650730704ff595dcb5dd1994bcb8",
            "_dom_classes": [],
            "description": "",
            "_model_name": "FloatProgressModel",
            "bar_style": "success",
            "max": 5148,
            "_view_module": "@jupyter-widgets/controls",
            "_model_module_version": "1.5.0",
            "value": 5148,
            "_view_count": null,
            "_view_module_version": "1.5.0",
            "orientation": "horizontal",
            "min": 0,
            "description_tooltip": null,
            "_model_module": "@jupyter-widgets/controls",
            "layout": "IPY_MODEL_1209170c722943ba9f41ef2247e78110"
          }
        },
        "72adce55fa22495ca471f147bce9c646": {
          "model_module": "@jupyter-widgets/controls",
          "model_name": "HTMLModel",
          "model_module_version": "1.5.0",
          "state": {
            "_view_name": "HTMLView",
            "style": "IPY_MODEL_a55705ac047d41a89b9a1c10a0e032f6",
            "_dom_classes": [],
            "description": "",
            "_model_name": "HTMLModel",
            "placeholder": "​",
            "_view_module": "@jupyter-widgets/controls",
            "_model_module_version": "1.5.0",
            "value": " 6144/? [01:16&lt;00:00, 80.82it/s]",
            "_view_count": null,
            "_view_module_version": "1.5.0",
            "description_tooltip": null,
            "_model_module": "@jupyter-widgets/controls",
            "layout": "IPY_MODEL_daf30ec316b74f6f8901dec4c07aca60"
          }
        },
        "0bd2650730704ff595dcb5dd1994bcb8": {
          "model_module": "@jupyter-widgets/controls",
          "model_name": "ProgressStyleModel",
          "model_module_version": "1.5.0",
          "state": {
            "_view_name": "StyleView",
            "_model_name": "ProgressStyleModel",
            "description_width": "initial",
            "_view_module": "@jupyter-widgets/base",
            "_model_module_version": "1.5.0",
            "_view_count": null,
            "_view_module_version": "1.2.0",
            "bar_color": null,
            "_model_module": "@jupyter-widgets/controls"
          }
        },
        "1209170c722943ba9f41ef2247e78110": {
          "model_module": "@jupyter-widgets/base",
          "model_name": "LayoutModel",
          "model_module_version": "1.2.0",
          "state": {
            "_view_name": "LayoutView",
            "grid_template_rows": null,
            "right": null,
            "justify_content": null,
            "_view_module": "@jupyter-widgets/base",
            "overflow": null,
            "_model_module_version": "1.2.0",
            "_view_count": null,
            "flex_flow": null,
            "width": null,
            "min_width": null,
            "border": null,
            "align_items": null,
            "bottom": null,
            "_model_module": "@jupyter-widgets/base",
            "top": null,
            "grid_column": null,
            "overflow_y": null,
            "overflow_x": null,
            "grid_auto_flow": null,
            "grid_area": null,
            "grid_template_columns": null,
            "flex": null,
            "_model_name": "LayoutModel",
            "justify_items": null,
            "grid_row": null,
            "max_height": null,
            "align_content": null,
            "visibility": null,
            "align_self": null,
            "height": null,
            "min_height": null,
            "padding": null,
            "grid_auto_rows": null,
            "grid_gap": null,
            "max_width": null,
            "order": null,
            "_view_module_version": "1.2.0",
            "grid_template_areas": null,
            "object_position": null,
            "object_fit": null,
            "grid_auto_columns": null,
            "margin": null,
            "display": null,
            "left": null
          }
        },
        "a55705ac047d41a89b9a1c10a0e032f6": {
          "model_module": "@jupyter-widgets/controls",
          "model_name": "DescriptionStyleModel",
          "model_module_version": "1.5.0",
          "state": {
            "_view_name": "StyleView",
            "_model_name": "DescriptionStyleModel",
            "description_width": "",
            "_view_module": "@jupyter-widgets/base",
            "_model_module_version": "1.5.0",
            "_view_count": null,
            "_view_module_version": "1.2.0",
            "_model_module": "@jupyter-widgets/controls"
          }
        },
        "daf30ec316b74f6f8901dec4c07aca60": {
          "model_module": "@jupyter-widgets/base",
          "model_name": "LayoutModel",
          "model_module_version": "1.2.0",
          "state": {
            "_view_name": "LayoutView",
            "grid_template_rows": null,
            "right": null,
            "justify_content": null,
            "_view_module": "@jupyter-widgets/base",
            "overflow": null,
            "_model_module_version": "1.2.0",
            "_view_count": null,
            "flex_flow": null,
            "width": null,
            "min_width": null,
            "border": null,
            "align_items": null,
            "bottom": null,
            "_model_module": "@jupyter-widgets/base",
            "top": null,
            "grid_column": null,
            "overflow_y": null,
            "overflow_x": null,
            "grid_auto_flow": null,
            "grid_area": null,
            "grid_template_columns": null,
            "flex": null,
            "_model_name": "LayoutModel",
            "justify_items": null,
            "grid_row": null,
            "max_height": null,
            "align_content": null,
            "visibility": null,
            "align_self": null,
            "height": null,
            "min_height": null,
            "padding": null,
            "grid_auto_rows": null,
            "grid_gap": null,
            "max_width": null,
            "order": null,
            "_view_module_version": "1.2.0",
            "grid_template_areas": null,
            "object_position": null,
            "object_fit": null,
            "grid_auto_columns": null,
            "margin": null,
            "display": null,
            "left": null
          }
        }
      }
    }
  },
  "cells": [
    {
      "cell_type": "markdown",
      "metadata": {
        "id": "view-in-github",
        "colab_type": "text"
      },
      "source": [
        "<a href=\"https://colab.research.google.com/github/zhaoyangbu/ML-study/blob/main/ResNetDemo.ipynb\" target=\"_parent\"><img src=\"https://colab.research.google.com/assets/colab-badge.svg\" alt=\"Open In Colab\"/></a>"
      ]
    },
    {
      "cell_type": "code",
      "metadata": {
        "colab": {
          "base_uri": "https://localhost:8080/"
        },
        "id": "UHA5N24x-3RN",
        "outputId": "d23d73e6-93f6-4ac5-9252-6f513ce959ba"
      },
      "source": [
        "! pip install torch"
      ],
      "execution_count": 3,
      "outputs": [
        {
          "output_type": "stream",
          "text": [
            "Requirement already satisfied: torch in /usr/local/lib/python3.7/dist-packages (1.9.0+cu102)\n",
            "Requirement already satisfied: typing-extensions in /usr/local/lib/python3.7/dist-packages (from torch) (3.7.4.3)\n"
          ],
          "name": "stdout"
        }
      ]
    },
    {
      "cell_type": "code",
      "metadata": {
        "colab": {
          "base_uri": "https://localhost:8080/"
        },
        "id": "MrXLZX0d_Hxu",
        "outputId": "a08fd146-9940-4fc8-f83d-b28c8f6dd9f9"
      },
      "source": [
        "!pip install d2l==0.17.0"
      ],
      "execution_count": 4,
      "outputs": [
        {
          "output_type": "stream",
          "text": [
            "Collecting d2l==0.17.0\n",
            "  Downloading d2l-0.17.0-py3-none-any.whl (83 kB)\n",
            "\u001b[?25l\r\u001b[K     |████                            | 10 kB 19.6 MB/s eta 0:00:01\r\u001b[K     |███████▉                        | 20 kB 24.3 MB/s eta 0:00:01\r\u001b[K     |███████████▉                    | 30 kB 21.4 MB/s eta 0:00:01\r\u001b[K     |███████████████▊                | 40 kB 16.5 MB/s eta 0:00:01\r\u001b[K     |███████████████████▊            | 51 kB 13.9 MB/s eta 0:00:01\r\u001b[K     |███████████████████████▋        | 61 kB 12.1 MB/s eta 0:00:01\r\u001b[K     |███████████████████████████▋    | 71 kB 11.7 MB/s eta 0:00:01\r\u001b[K     |███████████████████████████████▌| 81 kB 12.8 MB/s eta 0:00:01\r\u001b[K     |████████████████████████████████| 83 kB 1.4 MB/s \n",
            "\u001b[?25hRequirement already satisfied: numpy in /usr/local/lib/python3.7/dist-packages (from d2l==0.17.0) (1.19.5)\n",
            "Requirement already satisfied: requests in /usr/local/lib/python3.7/dist-packages (from d2l==0.17.0) (2.23.0)\n",
            "Requirement already satisfied: pandas in /usr/local/lib/python3.7/dist-packages (from d2l==0.17.0) (1.1.5)\n",
            "Requirement already satisfied: jupyter in /usr/local/lib/python3.7/dist-packages (from d2l==0.17.0) (1.0.0)\n",
            "Requirement already satisfied: matplotlib in /usr/local/lib/python3.7/dist-packages (from d2l==0.17.0) (3.2.2)\n",
            "Requirement already satisfied: ipywidgets in /usr/local/lib/python3.7/dist-packages (from jupyter->d2l==0.17.0) (7.6.3)\n",
            "Requirement already satisfied: nbconvert in /usr/local/lib/python3.7/dist-packages (from jupyter->d2l==0.17.0) (5.6.1)\n",
            "Requirement already satisfied: qtconsole in /usr/local/lib/python3.7/dist-packages (from jupyter->d2l==0.17.0) (5.1.1)\n",
            "Requirement already satisfied: ipykernel in /usr/local/lib/python3.7/dist-packages (from jupyter->d2l==0.17.0) (4.10.1)\n",
            "Requirement already satisfied: notebook in /usr/local/lib/python3.7/dist-packages (from jupyter->d2l==0.17.0) (5.3.1)\n",
            "Requirement already satisfied: jupyter-console in /usr/local/lib/python3.7/dist-packages (from jupyter->d2l==0.17.0) (5.2.0)\n",
            "Requirement already satisfied: traitlets>=4.1.0 in /usr/local/lib/python3.7/dist-packages (from ipykernel->jupyter->d2l==0.17.0) (5.0.5)\n",
            "Requirement already satisfied: tornado>=4.0 in /usr/local/lib/python3.7/dist-packages (from ipykernel->jupyter->d2l==0.17.0) (5.1.1)\n",
            "Requirement already satisfied: jupyter-client in /usr/local/lib/python3.7/dist-packages (from ipykernel->jupyter->d2l==0.17.0) (5.3.5)\n",
            "Requirement already satisfied: ipython>=4.0.0 in /usr/local/lib/python3.7/dist-packages (from ipykernel->jupyter->d2l==0.17.0) (5.5.0)\n",
            "Requirement already satisfied: decorator in /usr/local/lib/python3.7/dist-packages (from ipython>=4.0.0->ipykernel->jupyter->d2l==0.17.0) (4.4.2)\n",
            "Requirement already satisfied: pexpect in /usr/local/lib/python3.7/dist-packages (from ipython>=4.0.0->ipykernel->jupyter->d2l==0.17.0) (4.8.0)\n",
            "Requirement already satisfied: setuptools>=18.5 in /usr/local/lib/python3.7/dist-packages (from ipython>=4.0.0->ipykernel->jupyter->d2l==0.17.0) (57.2.0)\n",
            "Requirement already satisfied: prompt-toolkit<2.0.0,>=1.0.4 in /usr/local/lib/python3.7/dist-packages (from ipython>=4.0.0->ipykernel->jupyter->d2l==0.17.0) (1.0.18)\n",
            "Requirement already satisfied: pygments in /usr/local/lib/python3.7/dist-packages (from ipython>=4.0.0->ipykernel->jupyter->d2l==0.17.0) (2.6.1)\n",
            "Requirement already satisfied: pickleshare in /usr/local/lib/python3.7/dist-packages (from ipython>=4.0.0->ipykernel->jupyter->d2l==0.17.0) (0.7.5)\n",
            "Requirement already satisfied: simplegeneric>0.8 in /usr/local/lib/python3.7/dist-packages (from ipython>=4.0.0->ipykernel->jupyter->d2l==0.17.0) (0.8.1)\n",
            "Requirement already satisfied: six>=1.9.0 in /usr/local/lib/python3.7/dist-packages (from prompt-toolkit<2.0.0,>=1.0.4->ipython>=4.0.0->ipykernel->jupyter->d2l==0.17.0) (1.15.0)\n",
            "Requirement already satisfied: wcwidth in /usr/local/lib/python3.7/dist-packages (from prompt-toolkit<2.0.0,>=1.0.4->ipython>=4.0.0->ipykernel->jupyter->d2l==0.17.0) (0.2.5)\n",
            "Requirement already satisfied: ipython-genutils in /usr/local/lib/python3.7/dist-packages (from traitlets>=4.1.0->ipykernel->jupyter->d2l==0.17.0) (0.2.0)\n",
            "Requirement already satisfied: nbformat>=4.2.0 in /usr/local/lib/python3.7/dist-packages (from ipywidgets->jupyter->d2l==0.17.0) (5.1.3)\n",
            "Requirement already satisfied: widgetsnbextension~=3.5.0 in /usr/local/lib/python3.7/dist-packages (from ipywidgets->jupyter->d2l==0.17.0) (3.5.1)\n",
            "Requirement already satisfied: jupyterlab-widgets>=1.0.0 in /usr/local/lib/python3.7/dist-packages (from ipywidgets->jupyter->d2l==0.17.0) (1.0.0)\n",
            "Requirement already satisfied: jupyter-core in /usr/local/lib/python3.7/dist-packages (from nbformat>=4.2.0->ipywidgets->jupyter->d2l==0.17.0) (4.7.1)\n",
            "Requirement already satisfied: jsonschema!=2.5.0,>=2.4 in /usr/local/lib/python3.7/dist-packages (from nbformat>=4.2.0->ipywidgets->jupyter->d2l==0.17.0) (2.6.0)\n",
            "Requirement already satisfied: Send2Trash in /usr/local/lib/python3.7/dist-packages (from notebook->jupyter->d2l==0.17.0) (1.7.1)\n",
            "Requirement already satisfied: jinja2 in /usr/local/lib/python3.7/dist-packages (from notebook->jupyter->d2l==0.17.0) (2.11.3)\n",
            "Requirement already satisfied: terminado>=0.8.1 in /usr/local/lib/python3.7/dist-packages (from notebook->jupyter->d2l==0.17.0) (0.10.1)\n",
            "Requirement already satisfied: pyzmq>=13 in /usr/local/lib/python3.7/dist-packages (from jupyter-client->ipykernel->jupyter->d2l==0.17.0) (22.1.0)\n",
            "Requirement already satisfied: python-dateutil>=2.1 in /usr/local/lib/python3.7/dist-packages (from jupyter-client->ipykernel->jupyter->d2l==0.17.0) (2.8.1)\n",
            "Requirement already satisfied: ptyprocess in /usr/local/lib/python3.7/dist-packages (from terminado>=0.8.1->notebook->jupyter->d2l==0.17.0) (0.7.0)\n",
            "Requirement already satisfied: MarkupSafe>=0.23 in /usr/local/lib/python3.7/dist-packages (from jinja2->notebook->jupyter->d2l==0.17.0) (2.0.1)\n",
            "Requirement already satisfied: pyparsing!=2.0.4,!=2.1.2,!=2.1.6,>=2.0.1 in /usr/local/lib/python3.7/dist-packages (from matplotlib->d2l==0.17.0) (2.4.7)\n",
            "Requirement already satisfied: kiwisolver>=1.0.1 in /usr/local/lib/python3.7/dist-packages (from matplotlib->d2l==0.17.0) (1.3.1)\n",
            "Requirement already satisfied: cycler>=0.10 in /usr/local/lib/python3.7/dist-packages (from matplotlib->d2l==0.17.0) (0.10.0)\n",
            "Requirement already satisfied: bleach in /usr/local/lib/python3.7/dist-packages (from nbconvert->jupyter->d2l==0.17.0) (3.3.0)\n",
            "Requirement already satisfied: testpath in /usr/local/lib/python3.7/dist-packages (from nbconvert->jupyter->d2l==0.17.0) (0.5.0)\n",
            "Requirement already satisfied: mistune<2,>=0.8.1 in /usr/local/lib/python3.7/dist-packages (from nbconvert->jupyter->d2l==0.17.0) (0.8.4)\n",
            "Requirement already satisfied: entrypoints>=0.2.2 in /usr/local/lib/python3.7/dist-packages (from nbconvert->jupyter->d2l==0.17.0) (0.3)\n",
            "Requirement already satisfied: defusedxml in /usr/local/lib/python3.7/dist-packages (from nbconvert->jupyter->d2l==0.17.0) (0.7.1)\n",
            "Requirement already satisfied: pandocfilters>=1.4.1 in /usr/local/lib/python3.7/dist-packages (from nbconvert->jupyter->d2l==0.17.0) (1.4.3)\n",
            "Requirement already satisfied: packaging in /usr/local/lib/python3.7/dist-packages (from bleach->nbconvert->jupyter->d2l==0.17.0) (21.0)\n",
            "Requirement already satisfied: webencodings in /usr/local/lib/python3.7/dist-packages (from bleach->nbconvert->jupyter->d2l==0.17.0) (0.5.1)\n",
            "Requirement already satisfied: pytz>=2017.2 in /usr/local/lib/python3.7/dist-packages (from pandas->d2l==0.17.0) (2018.9)\n",
            "Requirement already satisfied: qtpy in /usr/local/lib/python3.7/dist-packages (from qtconsole->jupyter->d2l==0.17.0) (1.9.0)\n",
            "Requirement already satisfied: certifi>=2017.4.17 in /usr/local/lib/python3.7/dist-packages (from requests->d2l==0.17.0) (2021.5.30)\n",
            "Requirement already satisfied: idna<3,>=2.5 in /usr/local/lib/python3.7/dist-packages (from requests->d2l==0.17.0) (2.10)\n",
            "Requirement already satisfied: chardet<4,>=3.0.2 in /usr/local/lib/python3.7/dist-packages (from requests->d2l==0.17.0) (3.0.4)\n",
            "Requirement already satisfied: urllib3!=1.25.0,!=1.25.1,<1.26,>=1.21.1 in /usr/local/lib/python3.7/dist-packages (from requests->d2l==0.17.0) (1.24.3)\n",
            "Installing collected packages: d2l\n",
            "Successfully installed d2l-0.17.0\n"
          ],
          "name": "stdout"
        }
      ]
    },
    {
      "cell_type": "code",
      "metadata": {
        "id": "JjrWl-rYAYel"
      },
      "source": [
        "import torch\n",
        "from torch import nn\n",
        "from torch.nn import functional as F\n",
        "from d2l import torch as d2l"
      ],
      "execution_count": 5,
      "outputs": []
    },
    {
      "cell_type": "markdown",
      "metadata": {
        "id": "UwKD3RrrJJT3"
      },
      "source": [
        "# 1. Residual Block\n",
        "![3uUio4.png](data:image/png;base64,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)\n",
        "#### F(x) is the Residual Function, x is the shortcut. \n",
        "#### ⊕ represents element-wise addition, which means the size of F(x) and identity x must be the same.\n",
        "#### For examle:\n",
        "![3K34c8.png](data:image/png;base64,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)\n",
        "### 1. Two types of blocks: Basic Block and Bottleneck Block\n",
        "#### Main difference: size of conv layer\n",
        "#### Why using Bottle Neck？-- save cal time\n",
        "#### Num of Params: （assume dim = 256）\n",
        "#### Basic: （256x3x3x256）x 2 = 1179648\n",
        "#### BottleNeck: （256x1x1x64）+（64x3x3x64）+（64x1x1x256）= 69632"
      ]
    },
    {
      "cell_type": "code",
      "metadata": {
        "id": "3Uub2VR5Fpfd"
      },
      "source": [
        "class Residual(nn.Module): \n",
        "    \"\"\"The Residual block of ResNet.\"\"\"\n",
        "    def __init__(self, input_channels, num_channels, use_1x1conv=False,\n",
        "                 strides=1):\n",
        "        super().__init__()\n",
        "        self.conv1 = nn.Conv2d(input_channels, num_channels, kernel_size=3,\n",
        "                               padding=1, stride=strides)\n",
        "        self.conv2 = nn.Conv2d(num_channels, num_channels, kernel_size=3,\n",
        "                               padding=1)\n",
        "        if use_1x1conv:\n",
        "            self.conv3 = nn.Conv2d(input_channels, num_channels,\n",
        "                                   kernel_size=1, stride=strides)\n",
        "        else:\n",
        "            self.conv3 = None\n",
        "        self.bn1 = nn.BatchNorm2d(num_channels) # make feature map mean = 0, var = 1\n",
        "        self.bn2 = nn.BatchNorm2d(num_channels)\n",
        "\n",
        "    def forward(self, X):\n",
        "        Y = F.relu(self.bn1(self.conv1(X)))\n",
        "        Y = self.bn2(self.conv2(Y))\n",
        "        if self.conv3:\n",
        "            X = self.conv3(X)\n",
        "        Y += X\n",
        "        return F.relu(Y)"
      ],
      "execution_count": 6,
      "outputs": []
    },
    {
      "cell_type": "markdown",
      "metadata": {
        "id": "fdVoc1KlHMWq"
      },
      "source": [
        "### 2. Shortcut\n",
        "![3l4cD0.png](data:image/png;base64,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)\n",
        "#### left: take x identity as output directly\n",
        "#### right: x through 1x1 conv layer (aim: in(de)crease its dim to keep same dim)"
      ]
    },
    {
      "cell_type": "code",
      "metadata": {
        "id": "70ZJPBbkFuQE",
        "colab": {
          "base_uri": "https://localhost:8080/"
        },
        "outputId": "c411a6cb-4cd4-4556-f471-7cbaefc4c897"
      },
      "source": [
        "blk = Residual(3, 3)\n",
        "X = torch.rand(4, 3, 6, 6)\n",
        "Y = blk(X)\n",
        "Y.shape"
      ],
      "execution_count": 7,
      "outputs": [
        {
          "output_type": "execute_result",
          "data": {
            "text/plain": [
              "torch.Size([4, 3, 6, 6])"
            ]
          },
          "metadata": {
            "tags": []
          },
          "execution_count": 7
        }
      ]
    },
    {
      "cell_type": "markdown",
      "metadata": {
        "id": "hSchrvCkRjiR"
      },
      "source": [
        "Pytorch using N C H W\n",
        " \n",
        " N: batch size\n",
        " \n",
        " C: channel\n",
        " \n",
        " H: height\n",
        " \n",
        " W: width\n",
        "\n",
        "For height:\n",
        "\n",
        "6--conv1(k=3,p=1,s=1)=(6-(3-1)+2*1-1)/1+1=6\n",
        "\n",
        "6--conv1(k=3,p=1,s=1) = 6\n",
        "\n",
        "So outputsize = [4, 3, 6, 6]\n"
      ]
    },
    {
      "cell_type": "code",
      "metadata": {
        "id": "Gi5RVR2jFuXe",
        "colab": {
          "base_uri": "https://localhost:8080/"
        },
        "outputId": "6335fe73-a829-448f-c1aa-e0a72b53415d"
      },
      "source": [
        "X = torch.rand(4, 3, 6, 6)\n",
        "blk = Residual(3, 6, use_1x1conv=True, strides=2)\n",
        "blk(X).shape"
      ],
      "execution_count": 11,
      "outputs": [
        {
          "output_type": "execute_result",
          "data": {
            "text/plain": [
              "torch.Size([4, 6, 3, 3])"
            ]
          },
          "metadata": {
            "tags": []
          },
          "execution_count": 11
        }
      ]
    },
    {
      "cell_type": "markdown",
      "metadata": {
        "id": "FeRmk5lgd7s0"
      },
      "source": [
        "6--conv3(k=1,s=2)=(6-(1-1)+2*0)/2+1 = 3"
      ]
    },
    {
      "cell_type": "code",
      "metadata": {
        "id": "XPEnxz9fFuaz"
      },
      "source": [
        "# Build the First Block (7 x 7 conv layer)\n",
        "b1 = nn.Sequential(nn.Conv2d(1, 64, kernel_size=7, stride=2, padding=3),\n",
        "                   nn.BatchNorm2d(64), nn.ReLU(),\n",
        "                   nn.MaxPool2d(kernel_size=3, stride=2, padding=1))"
      ],
      "execution_count": 12,
      "outputs": []
    },
    {
      "cell_type": "code",
      "metadata": {
        "id": "f4dssYCzFukt"
      },
      "source": [
        "def resnet_block(input_channels, num_channels, num_residuals,\n",
        "                 first_block=False):\n",
        "    blk = []\n",
        "    for i in range(num_residuals):\n",
        "        if i == 0 and not first_block:\n",
        "            blk.append(\n",
        "                Residual(input_channels, num_channels, use_1x1conv=True,\n",
        "                         strides=2))\n",
        "        else:\n",
        "            blk.append(Residual(num_channels, num_channels))\n",
        "    return blk"
      ],
      "execution_count": 13,
      "outputs": []
    },
    {
      "cell_type": "code",
      "metadata": {
        "id": "dYfxiNoOOoyr"
      },
      "source": [
        "b2 = nn.Sequential(*resnet_block(64, 64, 2, first_block=True))\n",
        "b3 = nn.Sequential(*resnet_block(64, 128, 2))\n",
        "b4 = nn.Sequential(*resnet_block(128, 256, 2))\n",
        "b5 = nn.Sequential(*resnet_block(256, 512, 2))"
      ],
      "execution_count": 14,
      "outputs": []
    },
    {
      "cell_type": "code",
      "metadata": {
        "id": "NLdiFVAbOo6s"
      },
      "source": [
        "net = nn.Sequential(b1, b2, b3, b4, b5, nn.AdaptiveAvgPool2d((1, 1)),\n",
        "                    nn.Flatten(), nn.Linear(512, 10))"
      ],
      "execution_count": 15,
      "outputs": []
    },
    {
      "cell_type": "code",
      "metadata": {
        "colab": {
          "base_uri": "https://localhost:8080/"
        },
        "id": "JnTGbHRDOpCA",
        "outputId": "1a96b21e-841f-416c-f356-30a9d37f3fe1"
      },
      "source": [
        "X = torch.rand(size=(1, 1, 224, 224))\n",
        "for layer in net:\n",
        "    X = layer(X)\n",
        "    print(layer.__class__.__name__, 'output shape:\\t', X.shape)"
      ],
      "execution_count": 17,
      "outputs": [
        {
          "output_type": "stream",
          "text": [
            "Sequential output shape:\t torch.Size([1, 64, 56, 56])\n",
            "Sequential output shape:\t torch.Size([1, 64, 56, 56])\n",
            "Sequential output shape:\t torch.Size([1, 128, 28, 28])\n",
            "Sequential output shape:\t torch.Size([1, 256, 14, 14])\n",
            "Sequential output shape:\t torch.Size([1, 512, 7, 7])\n",
            "AdaptiveAvgPool2d output shape:\t torch.Size([1, 512, 1, 1])\n",
            "Flatten output shape:\t torch.Size([1, 512])\n",
            "Linear output shape:\t torch.Size([1, 10])\n"
          ],
          "name": "stdout"
        }
      ]
    },
    {
      "cell_type": "code",
      "metadata": {
        "colab": {
          "base_uri": "https://localhost:8080/",
          "height": 296,
          "referenced_widgets": [
            "8f2c6de9342e4d36af1e17c999864d8a",
            "fbb6743086344cf787479cdf65aefb3a",
            "548f77fc17814a68bba15c64172140d8",
            "58d1fcbf30db40a6acdd4cf19d28c674",
            "9cf276c0a44f49c7987c59b0af04823e",
            "22258198d61349bb9a72437c66dfc6bf",
            "0f1fde67e8da4b5984b2a8e51dc250fc",
            "746c9cc659274f1cbd96ad869ae66635",
            "11afcde03dfb42cb83a200c1744227bf",
            "a939023d5d254c3f8f8d1ac281055778",
            "de5bf8fbb5104e9cb622c2cef3536c95",
            "ded34e422e6b4fb58501e198367e0c88",
            "68f8e21252c04c90b7e5f0dacc3daa4d",
            "d1237208323845cba360b92b8b0891e4",
            "cb08c078ae2d4cb0bcae1410c38f92b3",
            "08e901412b9744789a5b166e157db2e1",
            "cae027f3fc8b49c5bfdab76727406492",
            "dbf30ddf65bb435a805a23f01d643596",
            "048201101ae743a3a238e8727b0acc08",
            "e2a0aeb847134cafb42a7bc1651fbe31",
            "e9e305c1fec84c2385b81a5c482d9eed",
            "d7c439aad6c64fbf88f060b06934e987",
            "e4eaf17d988b47b295ebf20578a5198d",
            "02bddd00219c4268b13b1777e65071aa",
            "50cc00ffc92c47b78f8d3863f0cb76d6",
            "7ca5c6c99a4c4c0b8b6244d1d117e5b5",
            "f5c5882fed2f46f28db9d4b919766411",
            "72adce55fa22495ca471f147bce9c646",
            "0bd2650730704ff595dcb5dd1994bcb8",
            "1209170c722943ba9f41ef2247e78110",
            "a55705ac047d41a89b9a1c10a0e032f6",
            "daf30ec316b74f6f8901dec4c07aca60"
          ]
        },
        "id": "G4ARJQbgO8Et",
        "outputId": "8ebca69d-4d52-47ca-b88c-b4051d6b3bdd"
      },
      "source": [
        "lr, num_epochs, batch_size = 0.05, 10, 256\n",
        "train_iter, test_iter = d2l.load_data_fashion_mnist(batch_size, resize=96)\n",
        "d2l.train_ch6(net, train_iter, test_iter, num_epochs, lr, d2l.try_gpu())"
      ],
      "execution_count": 18,
      "outputs": [
        {
          "output_type": "stream",
          "text": [
            "loss 0.022, train acc 0.993, test acc 0.893\n",
            "369.4 examples/sec on cuda:0\n"
          ],
          "name": "stdout"
        },
        {
          "output_type": "display_data",
          "data": {
            "text/plain": [
              "<Figure size 252x180 with 1 Axes>"
            ],
            "image/svg+xml": "<?xml version=\"1.0\" encoding=\"utf-8\" standalone=\"no\"?>\n<!DOCTYPE svg PUBLIC \"-//W3C//DTD SVG 1.1//EN\"\n  \"http://www.w3.org/Graphics/SVG/1.1/DTD/svg11.dtd\">\n<!-- Created with matplotlib (https://matplotlib.org/) -->\n<svg height=\"180.65625pt\" version=\"1.1\" viewBox=\"0 0 238.965625 180.65625\" width=\"238.965625pt\" xmlns=\"http://www.w3.org/2000/svg\" xmlns:xlink=\"http://www.w3.org/1999/xlink\">\n <defs>\n  <style type=\"text/css\">\n*{stroke-linecap:butt;stroke-linejoin:round;}\n  </style>\n </defs>\n <g id=\"figure_1\">\n  <g id=\"patch_1\">\n   <path d=\"M 0 180.65625 \nL 238.965625 180.65625 \nL 238.965625 0 \nL 0 0 \nz\n\" style=\"fill:none;\"/>\n  </g>\n  <g id=\"axes_1\">\n   <g id=\"patch_2\">\n    <path d=\"M 30.103125 143.1 \nL 225.403125 143.1 \nL 225.403125 7.2 \nL 30.103125 7.2 \nz\n\" style=\"fill:#ffffff;\"/>\n   </g>\n   <g id=\"matplotlib.axis_1\">\n    <g id=\"xtick_1\">\n     <g id=\"line2d_1\">\n      <path clip-path=\"url(#p28a4471971)\" d=\"M 51.803125 143.1 \nL 51.803125 7.2 \n\" style=\"fill:none;stroke:#b0b0b0;stroke-linecap:square;stroke-width:0.8;\"/>\n     </g>\n     <g id=\"line2d_2\">\n      <defs>\n       <path d=\"M 0 0 \nL 0 3.5 \n\" id=\"me7a1c3c812\" style=\"stroke:#000000;stroke-width:0.8;\"/>\n      </defs>\n      <g>\n       <use style=\"stroke:#000000;stroke-width:0.8;\" x=\"51.803125\" xlink:href=\"#me7a1c3c812\" y=\"143.1\"/>\n      </g>\n     </g>\n     <g id=\"text_1\">\n      <!-- 2 -->\n      <defs>\n       <path d=\"M 19.1875 8.296875 \nL 53.609375 8.296875 \nL 53.609375 0 \nL 7.328125 0 \nL 7.328125 8.296875 \nQ 12.9375 14.109375 22.625 23.890625 \nQ 32.328125 33.6875 34.8125 36.53125 \nQ 39.546875 41.84375 41.421875 45.53125 \nQ 43.3125 49.21875 43.3125 52.78125 \nQ 43.3125 58.59375 39.234375 62.25 \nQ 35.15625 65.921875 28.609375 65.921875 \nQ 23.96875 65.921875 18.8125 64.3125 \nQ 13.671875 62.703125 7.8125 59.421875 \nL 7.8125 69.390625 \nQ 13.765625 71.78125 18.9375 73 \nQ 24.125 74.21875 28.421875 74.21875 \nQ 39.75 74.21875 46.484375 68.546875 \nQ 53.21875 62.890625 53.21875 53.421875 \nQ 53.21875 48.921875 51.53125 44.890625 \nQ 49.859375 40.875 45.40625 35.40625 \nQ 44.1875 33.984375 37.640625 27.21875 \nQ 31.109375 20.453125 19.1875 8.296875 \nz\n\" id=\"DejaVuSans-50\"/>\n      </defs>\n      <g transform=\"translate(48.621875 157.698438)scale(0.1 -0.1)\">\n       <use xlink:href=\"#DejaVuSans-50\"/>\n      </g>\n     </g>\n    </g>\n    <g id=\"xtick_2\">\n     <g id=\"line2d_3\">\n      <path clip-path=\"url(#p28a4471971)\" d=\"M 95.203125 143.1 \nL 95.203125 7.2 \n\" style=\"fill:none;stroke:#b0b0b0;stroke-linecap:square;stroke-width:0.8;\"/>\n     </g>\n     <g id=\"line2d_4\">\n      <g>\n       <use style=\"stroke:#000000;stroke-width:0.8;\" x=\"95.203125\" xlink:href=\"#me7a1c3c812\" y=\"143.1\"/>\n      </g>\n     </g>\n     <g id=\"text_2\">\n      <!-- 4 -->\n      <defs>\n       <path d=\"M 37.796875 64.3125 \nL 12.890625 25.390625 \nL 37.796875 25.390625 \nz\nM 35.203125 72.90625 \nL 47.609375 72.90625 \nL 47.609375 25.390625 \nL 58.015625 25.390625 \nL 58.015625 17.1875 \nL 47.609375 17.1875 \nL 47.609375 0 \nL 37.796875 0 \nL 37.796875 17.1875 \nL 4.890625 17.1875 \nL 4.890625 26.703125 \nz\n\" id=\"DejaVuSans-52\"/>\n      </defs>\n      <g transform=\"translate(92.021875 157.698438)scale(0.1 -0.1)\">\n       <use xlink:href=\"#DejaVuSans-52\"/>\n      </g>\n     </g>\n    </g>\n    <g id=\"xtick_3\">\n     <g id=\"line2d_5\">\n      <path clip-path=\"url(#p28a4471971)\" d=\"M 138.603125 143.1 \nL 138.603125 7.2 \n\" style=\"fill:none;stroke:#b0b0b0;stroke-linecap:square;stroke-width:0.8;\"/>\n     </g>\n     <g id=\"line2d_6\">\n      <g>\n       <use style=\"stroke:#000000;stroke-width:0.8;\" x=\"138.603125\" xlink:href=\"#me7a1c3c812\" y=\"143.1\"/>\n      </g>\n     </g>\n     <g id=\"text_3\">\n      <!-- 6 -->\n      <defs>\n       <path d=\"M 33.015625 40.375 \nQ 26.375 40.375 22.484375 35.828125 \nQ 18.609375 31.296875 18.609375 23.390625 \nQ 18.609375 15.53125 22.484375 10.953125 \nQ 26.375 6.390625 33.015625 6.390625 \nQ 39.65625 6.390625 43.53125 10.953125 \nQ 47.40625 15.53125 47.40625 23.390625 \nQ 47.40625 31.296875 43.53125 35.828125 \nQ 39.65625 40.375 33.015625 40.375 \nz\nM 52.59375 71.296875 \nL 52.59375 62.3125 \nQ 48.875 64.0625 45.09375 64.984375 \nQ 41.3125 65.921875 37.59375 65.921875 \nQ 27.828125 65.921875 22.671875 59.328125 \nQ 17.53125 52.734375 16.796875 39.40625 \nQ 19.671875 43.65625 24.015625 45.921875 \nQ 28.375 48.1875 33.59375 48.1875 \nQ 44.578125 48.1875 50.953125 41.515625 \nQ 57.328125 34.859375 57.328125 23.390625 \nQ 57.328125 12.15625 50.6875 5.359375 \nQ 44.046875 -1.421875 33.015625 -1.421875 \nQ 20.359375 -1.421875 13.671875 8.265625 \nQ 6.984375 17.96875 6.984375 36.375 \nQ 6.984375 53.65625 15.1875 63.9375 \nQ 23.390625 74.21875 37.203125 74.21875 \nQ 40.921875 74.21875 44.703125 73.484375 \nQ 48.484375 72.75 52.59375 71.296875 \nz\n\" id=\"DejaVuSans-54\"/>\n      </defs>\n      <g transform=\"translate(135.421875 157.698438)scale(0.1 -0.1)\">\n       <use xlink:href=\"#DejaVuSans-54\"/>\n      </g>\n     </g>\n    </g>\n    <g id=\"xtick_4\">\n     <g id=\"line2d_7\">\n      <path clip-path=\"url(#p28a4471971)\" d=\"M 182.003125 143.1 \nL 182.003125 7.2 \n\" style=\"fill:none;stroke:#b0b0b0;stroke-linecap:square;stroke-width:0.8;\"/>\n     </g>\n     <g id=\"line2d_8\">\n      <g>\n       <use style=\"stroke:#000000;stroke-width:0.8;\" x=\"182.003125\" xlink:href=\"#me7a1c3c812\" y=\"143.1\"/>\n      </g>\n     </g>\n     <g id=\"text_4\">\n      <!-- 8 -->\n      <defs>\n       <path d=\"M 31.78125 34.625 \nQ 24.75 34.625 20.71875 30.859375 \nQ 16.703125 27.09375 16.703125 20.515625 \nQ 16.703125 13.921875 20.71875 10.15625 \nQ 24.75 6.390625 31.78125 6.390625 \nQ 38.8125 6.390625 42.859375 10.171875 \nQ 46.921875 13.96875 46.921875 20.515625 \nQ 46.921875 27.09375 42.890625 30.859375 \nQ 38.875 34.625 31.78125 34.625 \nz\nM 21.921875 38.8125 \nQ 15.578125 40.375 12.03125 44.71875 \nQ 8.5 49.078125 8.5 55.328125 \nQ 8.5 64.0625 14.71875 69.140625 \nQ 20.953125 74.21875 31.78125 74.21875 \nQ 42.671875 74.21875 48.875 69.140625 \nQ 55.078125 64.0625 55.078125 55.328125 \nQ 55.078125 49.078125 51.53125 44.71875 \nQ 48 40.375 41.703125 38.8125 \nQ 48.828125 37.15625 52.796875 32.3125 \nQ 56.78125 27.484375 56.78125 20.515625 \nQ 56.78125 9.90625 50.3125 4.234375 \nQ 43.84375 -1.421875 31.78125 -1.421875 \nQ 19.734375 -1.421875 13.25 4.234375 \nQ 6.78125 9.90625 6.78125 20.515625 \nQ 6.78125 27.484375 10.78125 32.3125 \nQ 14.796875 37.15625 21.921875 38.8125 \nz\nM 18.3125 54.390625 \nQ 18.3125 48.734375 21.84375 45.5625 \nQ 25.390625 42.390625 31.78125 42.390625 \nQ 38.140625 42.390625 41.71875 45.5625 \nQ 45.3125 48.734375 45.3125 54.390625 \nQ 45.3125 60.0625 41.71875 63.234375 \nQ 38.140625 66.40625 31.78125 66.40625 \nQ 25.390625 66.40625 21.84375 63.234375 \nQ 18.3125 60.0625 18.3125 54.390625 \nz\n\" id=\"DejaVuSans-56\"/>\n      </defs>\n      <g transform=\"translate(178.821875 157.698438)scale(0.1 -0.1)\">\n       <use xlink:href=\"#DejaVuSans-56\"/>\n      </g>\n     </g>\n    </g>\n    <g id=\"xtick_5\">\n     <g id=\"line2d_9\">\n      <path clip-path=\"url(#p28a4471971)\" d=\"M 225.403125 143.1 \nL 225.403125 7.2 \n\" style=\"fill:none;stroke:#b0b0b0;stroke-linecap:square;stroke-width:0.8;\"/>\n     </g>\n     <g id=\"line2d_10\">\n      <g>\n       <use style=\"stroke:#000000;stroke-width:0.8;\" x=\"225.403125\" xlink:href=\"#me7a1c3c812\" y=\"143.1\"/>\n      </g>\n     </g>\n     <g id=\"text_5\">\n      <!-- 10 -->\n      <defs>\n       <path d=\"M 12.40625 8.296875 \nL 28.515625 8.296875 \nL 28.515625 63.921875 \nL 10.984375 60.40625 \nL 10.984375 69.390625 \nL 28.421875 72.90625 \nL 38.28125 72.90625 \nL 38.28125 8.296875 \nL 54.390625 8.296875 \nL 54.390625 0 \nL 12.40625 0 \nz\n\" id=\"DejaVuSans-49\"/>\n       <path d=\"M 31.78125 66.40625 \nQ 24.171875 66.40625 20.328125 58.90625 \nQ 16.5 51.421875 16.5 36.375 \nQ 16.5 21.390625 20.328125 13.890625 \nQ 24.171875 6.390625 31.78125 6.390625 \nQ 39.453125 6.390625 43.28125 13.890625 \nQ 47.125 21.390625 47.125 36.375 \nQ 47.125 51.421875 43.28125 58.90625 \nQ 39.453125 66.40625 31.78125 66.40625 \nz\nM 31.78125 74.21875 \nQ 44.046875 74.21875 50.515625 64.515625 \nQ 56.984375 54.828125 56.984375 36.375 \nQ 56.984375 17.96875 50.515625 8.265625 \nQ 44.046875 -1.421875 31.78125 -1.421875 \nQ 19.53125 -1.421875 13.0625 8.265625 \nQ 6.59375 17.96875 6.59375 36.375 \nQ 6.59375 54.828125 13.0625 64.515625 \nQ 19.53125 74.21875 31.78125 74.21875 \nz\n\" id=\"DejaVuSans-48\"/>\n      </defs>\n      <g transform=\"translate(219.040625 157.698438)scale(0.1 -0.1)\">\n       <use xlink:href=\"#DejaVuSans-49\"/>\n       <use x=\"63.623047\" xlink:href=\"#DejaVuSans-48\"/>\n      </g>\n     </g>\n    </g>\n    <g id=\"text_6\">\n     <!-- epoch -->\n     <defs>\n      <path d=\"M 56.203125 29.59375 \nL 56.203125 25.203125 \nL 14.890625 25.203125 \nQ 15.484375 15.921875 20.484375 11.0625 \nQ 25.484375 6.203125 34.421875 6.203125 \nQ 39.59375 6.203125 44.453125 7.46875 \nQ 49.3125 8.734375 54.109375 11.28125 \nL 54.109375 2.78125 \nQ 49.265625 0.734375 44.1875 -0.34375 \nQ 39.109375 -1.421875 33.890625 -1.421875 \nQ 20.796875 -1.421875 13.15625 6.1875 \nQ 5.515625 13.8125 5.515625 26.8125 \nQ 5.515625 40.234375 12.765625 48.109375 \nQ 20.015625 56 32.328125 56 \nQ 43.359375 56 49.78125 48.890625 \nQ 56.203125 41.796875 56.203125 29.59375 \nz\nM 47.21875 32.234375 \nQ 47.125 39.59375 43.09375 43.984375 \nQ 39.0625 48.390625 32.421875 48.390625 \nQ 24.90625 48.390625 20.390625 44.140625 \nQ 15.875 39.890625 15.1875 32.171875 \nz\n\" id=\"DejaVuSans-101\"/>\n      <path d=\"M 18.109375 8.203125 \nL 18.109375 -20.796875 \nL 9.078125 -20.796875 \nL 9.078125 54.6875 \nL 18.109375 54.6875 \nL 18.109375 46.390625 \nQ 20.953125 51.265625 25.265625 53.625 \nQ 29.59375 56 35.59375 56 \nQ 45.5625 56 51.78125 48.09375 \nQ 58.015625 40.1875 58.015625 27.296875 \nQ 58.015625 14.40625 51.78125 6.484375 \nQ 45.5625 -1.421875 35.59375 -1.421875 \nQ 29.59375 -1.421875 25.265625 0.953125 \nQ 20.953125 3.328125 18.109375 8.203125 \nz\nM 48.6875 27.296875 \nQ 48.6875 37.203125 44.609375 42.84375 \nQ 40.53125 48.484375 33.40625 48.484375 \nQ 26.265625 48.484375 22.1875 42.84375 \nQ 18.109375 37.203125 18.109375 27.296875 \nQ 18.109375 17.390625 22.1875 11.75 \nQ 26.265625 6.109375 33.40625 6.109375 \nQ 40.53125 6.109375 44.609375 11.75 \nQ 48.6875 17.390625 48.6875 27.296875 \nz\n\" id=\"DejaVuSans-112\"/>\n      <path d=\"M 30.609375 48.390625 \nQ 23.390625 48.390625 19.1875 42.75 \nQ 14.984375 37.109375 14.984375 27.296875 \nQ 14.984375 17.484375 19.15625 11.84375 \nQ 23.34375 6.203125 30.609375 6.203125 \nQ 37.796875 6.203125 41.984375 11.859375 \nQ 46.1875 17.53125 46.1875 27.296875 \nQ 46.1875 37.015625 41.984375 42.703125 \nQ 37.796875 48.390625 30.609375 48.390625 \nz\nM 30.609375 56 \nQ 42.328125 56 49.015625 48.375 \nQ 55.71875 40.765625 55.71875 27.296875 \nQ 55.71875 13.875 49.015625 6.21875 \nQ 42.328125 -1.421875 30.609375 -1.421875 \nQ 18.84375 -1.421875 12.171875 6.21875 \nQ 5.515625 13.875 5.515625 27.296875 \nQ 5.515625 40.765625 12.171875 48.375 \nQ 18.84375 56 30.609375 56 \nz\n\" id=\"DejaVuSans-111\"/>\n      <path d=\"M 48.78125 52.59375 \nL 48.78125 44.1875 \nQ 44.96875 46.296875 41.140625 47.34375 \nQ 37.3125 48.390625 33.40625 48.390625 \nQ 24.65625 48.390625 19.8125 42.84375 \nQ 14.984375 37.3125 14.984375 27.296875 \nQ 14.984375 17.28125 19.8125 11.734375 \nQ 24.65625 6.203125 33.40625 6.203125 \nQ 37.3125 6.203125 41.140625 7.25 \nQ 44.96875 8.296875 48.78125 10.40625 \nL 48.78125 2.09375 \nQ 45.015625 0.34375 40.984375 -0.53125 \nQ 36.96875 -1.421875 32.421875 -1.421875 \nQ 20.0625 -1.421875 12.78125 6.34375 \nQ 5.515625 14.109375 5.515625 27.296875 \nQ 5.515625 40.671875 12.859375 48.328125 \nQ 20.21875 56 33.015625 56 \nQ 37.15625 56 41.109375 55.140625 \nQ 45.0625 54.296875 48.78125 52.59375 \nz\n\" id=\"DejaVuSans-99\"/>\n      <path d=\"M 54.890625 33.015625 \nL 54.890625 0 \nL 45.90625 0 \nL 45.90625 32.71875 \nQ 45.90625 40.484375 42.875 44.328125 \nQ 39.84375 48.1875 33.796875 48.1875 \nQ 26.515625 48.1875 22.3125 43.546875 \nQ 18.109375 38.921875 18.109375 30.90625 \nL 18.109375 0 \nL 9.078125 0 \nL 9.078125 75.984375 \nL 18.109375 75.984375 \nL 18.109375 46.1875 \nQ 21.34375 51.125 25.703125 53.5625 \nQ 30.078125 56 35.796875 56 \nQ 45.21875 56 50.046875 50.171875 \nQ 54.890625 44.34375 54.890625 33.015625 \nz\n\" id=\"DejaVuSans-104\"/>\n     </defs>\n     <g transform=\"translate(112.525 171.376563)scale(0.1 -0.1)\">\n      <use xlink:href=\"#DejaVuSans-101\"/>\n      <use x=\"61.523438\" xlink:href=\"#DejaVuSans-112\"/>\n      <use x=\"125\" xlink:href=\"#DejaVuSans-111\"/>\n      <use x=\"186.181641\" xlink:href=\"#DejaVuSans-99\"/>\n      <use x=\"241.162109\" xlink:href=\"#DejaVuSans-104\"/>\n     </g>\n    </g>\n   </g>\n   <g id=\"matplotlib.axis_2\">\n    <g id=\"ytick_1\">\n     <g id=\"line2d_11\">\n      <path clip-path=\"url(#p28a4471971)\" d=\"M 30.103125 139.281996 \nL 225.403125 139.281996 \n\" style=\"fill:none;stroke:#b0b0b0;stroke-linecap:square;stroke-width:0.8;\"/>\n     </g>\n     <g id=\"line2d_12\">\n      <defs>\n       <path d=\"M 0 0 \nL -3.5 0 \n\" id=\"m07aced0863\" style=\"stroke:#000000;stroke-width:0.8;\"/>\n      </defs>\n      <g>\n       <use style=\"stroke:#000000;stroke-width:0.8;\" x=\"30.103125\" xlink:href=\"#m07aced0863\" y=\"139.281996\"/>\n      </g>\n     </g>\n     <g id=\"text_7\">\n      <!-- 0.0 -->\n      <defs>\n       <path d=\"M 10.6875 12.40625 \nL 21 12.40625 \nL 21 0 \nL 10.6875 0 \nz\n\" id=\"DejaVuSans-46\"/>\n      </defs>\n      <g transform=\"translate(7.2 143.081214)scale(0.1 -0.1)\">\n       <use xlink:href=\"#DejaVuSans-48\"/>\n       <use x=\"63.623047\" xlink:href=\"#DejaVuSans-46\"/>\n       <use x=\"95.410156\" xlink:href=\"#DejaVuSans-48\"/>\n      </g>\n     </g>\n    </g>\n    <g id=\"ytick_2\">\n     <g id=\"line2d_13\">\n      <path clip-path=\"url(#p28a4471971)\" d=\"M 30.103125 113.968509 \nL 225.403125 113.968509 \n\" style=\"fill:none;stroke:#b0b0b0;stroke-linecap:square;stroke-width:0.8;\"/>\n     </g>\n     <g id=\"line2d_14\">\n      <g>\n       <use style=\"stroke:#000000;stroke-width:0.8;\" x=\"30.103125\" xlink:href=\"#m07aced0863\" y=\"113.968509\"/>\n      </g>\n     </g>\n     <g id=\"text_8\">\n      <!-- 0.2 -->\n      <g transform=\"translate(7.2 117.767727)scale(0.1 -0.1)\">\n       <use xlink:href=\"#DejaVuSans-48\"/>\n       <use x=\"63.623047\" xlink:href=\"#DejaVuSans-46\"/>\n       <use x=\"95.410156\" xlink:href=\"#DejaVuSans-50\"/>\n      </g>\n     </g>\n    </g>\n    <g id=\"ytick_3\">\n     <g id=\"line2d_15\">\n      <path clip-path=\"url(#p28a4471971)\" d=\"M 30.103125 88.655022 \nL 225.403125 88.655022 \n\" style=\"fill:none;stroke:#b0b0b0;stroke-linecap:square;stroke-width:0.8;\"/>\n     </g>\n     <g id=\"line2d_16\">\n      <g>\n       <use style=\"stroke:#000000;stroke-width:0.8;\" x=\"30.103125\" xlink:href=\"#m07aced0863\" y=\"88.655022\"/>\n      </g>\n     </g>\n     <g id=\"text_9\">\n      <!-- 0.4 -->\n      <g transform=\"translate(7.2 92.454241)scale(0.1 -0.1)\">\n       <use xlink:href=\"#DejaVuSans-48\"/>\n       <use x=\"63.623047\" xlink:href=\"#DejaVuSans-46\"/>\n       <use x=\"95.410156\" xlink:href=\"#DejaVuSans-52\"/>\n      </g>\n     </g>\n    </g>\n    <g id=\"ytick_4\">\n     <g id=\"line2d_17\">\n      <path clip-path=\"url(#p28a4471971)\" d=\"M 30.103125 63.341535 \nL 225.403125 63.341535 \n\" style=\"fill:none;stroke:#b0b0b0;stroke-linecap:square;stroke-width:0.8;\"/>\n     </g>\n     <g id=\"line2d_18\">\n      <g>\n       <use style=\"stroke:#000000;stroke-width:0.8;\" x=\"30.103125\" xlink:href=\"#m07aced0863\" y=\"63.341535\"/>\n      </g>\n     </g>\n     <g id=\"text_10\">\n      <!-- 0.6 -->\n      <g transform=\"translate(7.2 67.140754)scale(0.1 -0.1)\">\n       <use xlink:href=\"#DejaVuSans-48\"/>\n       <use x=\"63.623047\" xlink:href=\"#DejaVuSans-46\"/>\n       <use x=\"95.410156\" xlink:href=\"#DejaVuSans-54\"/>\n      </g>\n     </g>\n    </g>\n    <g id=\"ytick_5\">\n     <g id=\"line2d_19\">\n      <path clip-path=\"url(#p28a4471971)\" d=\"M 30.103125 38.028048 \nL 225.403125 38.028048 \n\" style=\"fill:none;stroke:#b0b0b0;stroke-linecap:square;stroke-width:0.8;\"/>\n     </g>\n     <g id=\"line2d_20\">\n      <g>\n       <use style=\"stroke:#000000;stroke-width:0.8;\" x=\"30.103125\" xlink:href=\"#m07aced0863\" y=\"38.028048\"/>\n      </g>\n     </g>\n     <g id=\"text_11\">\n      <!-- 0.8 -->\n      <g transform=\"translate(7.2 41.827267)scale(0.1 -0.1)\">\n       <use xlink:href=\"#DejaVuSans-48\"/>\n       <use x=\"63.623047\" xlink:href=\"#DejaVuSans-46\"/>\n       <use x=\"95.410156\" xlink:href=\"#DejaVuSans-56\"/>\n      </g>\n     </g>\n    </g>\n    <g id=\"ytick_6\">\n     <g id=\"line2d_21\">\n      <path clip-path=\"url(#p28a4471971)\" d=\"M 30.103125 12.714561 \nL 225.403125 12.714561 \n\" style=\"fill:none;stroke:#b0b0b0;stroke-linecap:square;stroke-width:0.8;\"/>\n     </g>\n     <g id=\"line2d_22\">\n      <g>\n       <use style=\"stroke:#000000;stroke-width:0.8;\" x=\"30.103125\" xlink:href=\"#m07aced0863\" y=\"12.714561\"/>\n      </g>\n     </g>\n     <g id=\"text_12\">\n      <!-- 1.0 -->\n      <g transform=\"translate(7.2 16.51378)scale(0.1 -0.1)\">\n       <use xlink:href=\"#DejaVuSans-49\"/>\n       <use x=\"63.623047\" xlink:href=\"#DejaVuSans-46\"/>\n       <use x=\"95.410156\" xlink:href=\"#DejaVuSans-48\"/>\n      </g>\n     </g>\n    </g>\n   </g>\n   <g id=\"line2d_23\">\n    <path clip-path=\"url(#p28a4471971)\" d=\"M 12.743125 22.863039 \nL 17.083125 53.591315 \nL 21.423125 65.900752 \nL 25.763125 73.425919 \nL 30.103125 78.496776 \nL 34.443125 103.871642 \nL 38.783125 105.603054 \nL 43.123125 106.302184 \nL 47.463125 106.895457 \nL 51.803125 107.200083 \nL 56.143125 115.639239 \nL 60.483125 115.937548 \nL 64.823125 115.576739 \nL 69.163125 115.310175 \nL 73.503125 115.072684 \nL 77.843125 120.247801 \nL 82.183125 120.839347 \nL 86.523125 120.613424 \nL 90.863125 120.752342 \nL 95.203125 120.627067 \nL 99.543125 125.955299 \nL 103.883125 125.545911 \nL 108.223125 125.53149 \nL 112.563125 125.351515 \nL 116.903125 124.956087 \nL 121.243125 130.934569 \nL 125.583125 130.394757 \nL 129.923125 129.862774 \nL 134.263125 129.449838 \nL 138.603125 129.126834 \nL 142.943125 132.010823 \nL 147.283125 132.826836 \nL 151.623125 132.957301 \nL 155.963125 132.668914 \nL 160.303125 132.311998 \nL 164.643125 134.961807 \nL 168.983125 134.95077 \nL 173.323125 134.980853 \nL 177.663125 134.911179 \nL 182.003125 134.677493 \nL 186.343125 136.548608 \nL 190.683125 136.433534 \nL 195.023125 136.397385 \nL 199.363125 136.330129 \nL 203.703125 136.262935 \nL 208.043125 136.091149 \nL 212.383125 136.763752 \nL 216.723125 136.922727 \nL 221.063125 136.678286 \nL 225.403125 136.512586 \n\" style=\"fill:none;stroke:#1f77b4;stroke-linecap:square;stroke-width:1.5;\"/>\n   </g>\n   <g id=\"line2d_24\">\n    <path clip-path=\"url(#p28a4471971)\" d=\"M 12.743125 51.015095 \nL 17.083125 41.863361 \nL 21.423125 38.30786 \nL 25.763125 35.898955 \nL 30.103125 34.277433 \nL 34.443125 25.863605 \nL 38.783125 25.216672 \nL 43.123125 25.102713 \nL 47.463125 24.856388 \nL 51.803125 24.723701 \nL 56.143125 21.361372 \nL 60.483125 21.277218 \nL 64.823125 21.48059 \nL 69.163125 21.598055 \nL 73.503125 21.660769 \nL 77.843125 19.310121 \nL 82.183125 19.141813 \nL 86.523125 19.390769 \nL 90.863125 19.407424 \nL 95.203125 19.492247 \nL 99.543125 17.195755 \nL 103.883125 17.521851 \nL 108.223125 17.553409 \nL 112.563125 17.632303 \nL 116.903125 17.821557 \nL 121.243125 15.628389 \nL 125.583125 15.838774 \nL 129.923125 16.059678 \nL 134.263125 16.243764 \nL 138.603125 16.374469 \nL 142.943125 15.039312 \nL 147.283125 14.723735 \nL 151.623125 14.660619 \nL 155.963125 14.78685 \nL 160.303125 14.965352 \nL 164.643125 13.934792 \nL 168.983125 14.087321 \nL 173.323125 14.110113 \nL 177.663125 14.09784 \nL 182.003125 14.180634 \nL 186.343125 13.566619 \nL 190.683125 13.571879 \nL 195.023125 13.598177 \nL 199.363125 13.627105 \nL 203.703125 13.655379 \nL 208.043125 13.608696 \nL 212.383125 13.40883 \nL 216.723125 13.377273 \nL 221.063125 13.506133 \nL 225.403125 13.556234 \n\" style=\"fill:none;stroke:#bf00bf;stroke-dasharray:5.55,2.4;stroke-dashoffset:0;stroke-width:1.5;\"/>\n   </g>\n   <g id=\"line2d_25\">\n    <path clip-path=\"url(#p28a4471971)\" d=\"M 30.103125 39.96453 \nL 51.803125 29.193641 \nL 73.503125 30.927615 \nL 95.203125 30.218837 \nL 116.903125 24.282824 \nL 138.603125 27.029338 \nL 160.303125 24.257511 \nL 182.003125 23.637331 \nL 203.703125 37.521778 \nL 225.403125 26.24462 \n\" style=\"fill:none;stroke:#008000;stroke-dasharray:9.6,2.4,1.5,2.4;stroke-dashoffset:0;stroke-width:1.5;\"/>\n   </g>\n   <g id=\"patch_3\">\n    <path d=\"M 30.103125 143.1 \nL 30.103125 7.2 \n\" style=\"fill:none;stroke:#000000;stroke-linecap:square;stroke-linejoin:miter;stroke-width:0.8;\"/>\n   </g>\n   <g id=\"patch_4\">\n    <path d=\"M 225.403125 143.1 \nL 225.403125 7.2 \n\" style=\"fill:none;stroke:#000000;stroke-linecap:square;stroke-linejoin:miter;stroke-width:0.8;\"/>\n   </g>\n   <g id=\"patch_5\">\n    <path d=\"M 30.103125 143.1 \nL 225.403125 143.1 \n\" style=\"fill:none;stroke:#000000;stroke-linecap:square;stroke-linejoin:miter;stroke-width:0.8;\"/>\n   </g>\n   <g id=\"patch_6\">\n    <path d=\"M 30.103125 7.2 \nL 225.403125 7.2 \n\" style=\"fill:none;stroke:#000000;stroke-linecap:square;stroke-linejoin:miter;stroke-width:0.8;\"/>\n   </g>\n   <g id=\"legend_1\">\n    <g id=\"patch_7\">\n     <path d=\"M 140.634375 98.667187 \nL 218.403125 98.667187 \nQ 220.403125 98.667187 220.403125 96.667187 \nL 220.403125 53.632812 \nQ 220.403125 51.632812 218.403125 51.632812 \nL 140.634375 51.632812 \nQ 138.634375 51.632812 138.634375 53.632812 \nL 138.634375 96.667187 \nQ 138.634375 98.667187 140.634375 98.667187 \nz\n\" style=\"fill:#ffffff;opacity:0.8;stroke:#cccccc;stroke-linejoin:miter;\"/>\n    </g>\n    <g id=\"line2d_26\">\n     <path d=\"M 142.634375 59.73125 \nL 162.634375 59.73125 \n\" style=\"fill:none;stroke:#1f77b4;stroke-linecap:square;stroke-width:1.5;\"/>\n    </g>\n    <g id=\"line2d_27\"/>\n    <g id=\"text_13\">\n     <!-- train loss -->\n     <defs>\n      <path d=\"M 18.3125 70.21875 \nL 18.3125 54.6875 \nL 36.8125 54.6875 \nL 36.8125 47.703125 \nL 18.3125 47.703125 \nL 18.3125 18.015625 \nQ 18.3125 11.328125 20.140625 9.421875 \nQ 21.96875 7.515625 27.59375 7.515625 \nL 36.8125 7.515625 \nL 36.8125 0 \nL 27.59375 0 \nQ 17.1875 0 13.234375 3.875 \nQ 9.28125 7.765625 9.28125 18.015625 \nL 9.28125 47.703125 \nL 2.6875 47.703125 \nL 2.6875 54.6875 \nL 9.28125 54.6875 \nL 9.28125 70.21875 \nz\n\" id=\"DejaVuSans-116\"/>\n      <path d=\"M 41.109375 46.296875 \nQ 39.59375 47.171875 37.8125 47.578125 \nQ 36.03125 48 33.890625 48 \nQ 26.265625 48 22.1875 43.046875 \nQ 18.109375 38.09375 18.109375 28.8125 \nL 18.109375 0 \nL 9.078125 0 \nL 9.078125 54.6875 \nL 18.109375 54.6875 \nL 18.109375 46.1875 \nQ 20.953125 51.171875 25.484375 53.578125 \nQ 30.03125 56 36.53125 56 \nQ 37.453125 56 38.578125 55.875 \nQ 39.703125 55.765625 41.0625 55.515625 \nz\n\" id=\"DejaVuSans-114\"/>\n      <path d=\"M 34.28125 27.484375 \nQ 23.390625 27.484375 19.1875 25 \nQ 14.984375 22.515625 14.984375 16.5 \nQ 14.984375 11.71875 18.140625 8.90625 \nQ 21.296875 6.109375 26.703125 6.109375 \nQ 34.1875 6.109375 38.703125 11.40625 \nQ 43.21875 16.703125 43.21875 25.484375 \nL 43.21875 27.484375 \nz\nM 52.203125 31.203125 \nL 52.203125 0 \nL 43.21875 0 \nL 43.21875 8.296875 \nQ 40.140625 3.328125 35.546875 0.953125 \nQ 30.953125 -1.421875 24.3125 -1.421875 \nQ 15.921875 -1.421875 10.953125 3.296875 \nQ 6 8.015625 6 15.921875 \nQ 6 25.140625 12.171875 29.828125 \nQ 18.359375 34.515625 30.609375 34.515625 \nL 43.21875 34.515625 \nL 43.21875 35.40625 \nQ 43.21875 41.609375 39.140625 45 \nQ 35.0625 48.390625 27.6875 48.390625 \nQ 23 48.390625 18.546875 47.265625 \nQ 14.109375 46.140625 10.015625 43.890625 \nL 10.015625 52.203125 \nQ 14.9375 54.109375 19.578125 55.046875 \nQ 24.21875 56 28.609375 56 \nQ 40.484375 56 46.34375 49.84375 \nQ 52.203125 43.703125 52.203125 31.203125 \nz\n\" id=\"DejaVuSans-97\"/>\n      <path d=\"M 9.421875 54.6875 \nL 18.40625 54.6875 \nL 18.40625 0 \nL 9.421875 0 \nz\nM 9.421875 75.984375 \nL 18.40625 75.984375 \nL 18.40625 64.59375 \nL 9.421875 64.59375 \nz\n\" id=\"DejaVuSans-105\"/>\n      <path d=\"M 54.890625 33.015625 \nL 54.890625 0 \nL 45.90625 0 \nL 45.90625 32.71875 \nQ 45.90625 40.484375 42.875 44.328125 \nQ 39.84375 48.1875 33.796875 48.1875 \nQ 26.515625 48.1875 22.3125 43.546875 \nQ 18.109375 38.921875 18.109375 30.90625 \nL 18.109375 0 \nL 9.078125 0 \nL 9.078125 54.6875 \nL 18.109375 54.6875 \nL 18.109375 46.1875 \nQ 21.34375 51.125 25.703125 53.5625 \nQ 30.078125 56 35.796875 56 \nQ 45.21875 56 50.046875 50.171875 \nQ 54.890625 44.34375 54.890625 33.015625 \nz\n\" id=\"DejaVuSans-110\"/>\n      <path id=\"DejaVuSans-32\"/>\n      <path d=\"M 9.421875 75.984375 \nL 18.40625 75.984375 \nL 18.40625 0 \nL 9.421875 0 \nz\n\" id=\"DejaVuSans-108\"/>\n      <path d=\"M 44.28125 53.078125 \nL 44.28125 44.578125 \nQ 40.484375 46.53125 36.375 47.5 \nQ 32.28125 48.484375 27.875 48.484375 \nQ 21.1875 48.484375 17.84375 46.4375 \nQ 14.5 44.390625 14.5 40.28125 \nQ 14.5 37.15625 16.890625 35.375 \nQ 19.28125 33.59375 26.515625 31.984375 \nL 29.59375 31.296875 \nQ 39.15625 29.25 43.1875 25.515625 \nQ 47.21875 21.78125 47.21875 15.09375 \nQ 47.21875 7.46875 41.1875 3.015625 \nQ 35.15625 -1.421875 24.609375 -1.421875 \nQ 20.21875 -1.421875 15.453125 -0.5625 \nQ 10.6875 0.296875 5.421875 2 \nL 5.421875 11.28125 \nQ 10.40625 8.6875 15.234375 7.390625 \nQ 20.0625 6.109375 24.8125 6.109375 \nQ 31.15625 6.109375 34.5625 8.28125 \nQ 37.984375 10.453125 37.984375 14.40625 \nQ 37.984375 18.0625 35.515625 20.015625 \nQ 33.0625 21.96875 24.703125 23.78125 \nL 21.578125 24.515625 \nQ 13.234375 26.265625 9.515625 29.90625 \nQ 5.8125 33.546875 5.8125 39.890625 \nQ 5.8125 47.609375 11.28125 51.796875 \nQ 16.75 56 26.8125 56 \nQ 31.78125 56 36.171875 55.265625 \nQ 40.578125 54.546875 44.28125 53.078125 \nz\n\" id=\"DejaVuSans-115\"/>\n     </defs>\n     <g transform=\"translate(170.634375 63.23125)scale(0.1 -0.1)\">\n      <use xlink:href=\"#DejaVuSans-116\"/>\n      <use x=\"39.208984\" xlink:href=\"#DejaVuSans-114\"/>\n      <use x=\"80.322266\" xlink:href=\"#DejaVuSans-97\"/>\n      <use x=\"141.601562\" xlink:href=\"#DejaVuSans-105\"/>\n      <use x=\"169.384766\" xlink:href=\"#DejaVuSans-110\"/>\n      <use x=\"232.763672\" xlink:href=\"#DejaVuSans-32\"/>\n      <use x=\"264.550781\" xlink:href=\"#DejaVuSans-108\"/>\n      <use x=\"292.333984\" xlink:href=\"#DejaVuSans-111\"/>\n      <use x=\"353.515625\" xlink:href=\"#DejaVuSans-115\"/>\n      <use x=\"405.615234\" xlink:href=\"#DejaVuSans-115\"/>\n     </g>\n    </g>\n    <g id=\"line2d_28\">\n     <path d=\"M 142.634375 74.409375 \nL 162.634375 74.409375 \n\" style=\"fill:none;stroke:#bf00bf;stroke-dasharray:5.55,2.4;stroke-dashoffset:0;stroke-width:1.5;\"/>\n    </g>\n    <g id=\"line2d_29\"/>\n    <g id=\"text_14\">\n     <!-- train acc -->\n     <g transform=\"translate(170.634375 77.909375)scale(0.1 -0.1)\">\n      <use xlink:href=\"#DejaVuSans-116\"/>\n      <use x=\"39.208984\" xlink:href=\"#DejaVuSans-114\"/>\n      <use x=\"80.322266\" xlink:href=\"#DejaVuSans-97\"/>\n      <use x=\"141.601562\" xlink:href=\"#DejaVuSans-105\"/>\n      <use x=\"169.384766\" xlink:href=\"#DejaVuSans-110\"/>\n      <use x=\"232.763672\" xlink:href=\"#DejaVuSans-32\"/>\n      <use x=\"264.550781\" xlink:href=\"#DejaVuSans-97\"/>\n      <use x=\"325.830078\" xlink:href=\"#DejaVuSans-99\"/>\n      <use x=\"380.810547\" xlink:href=\"#DejaVuSans-99\"/>\n     </g>\n    </g>\n    <g id=\"line2d_30\">\n     <path d=\"M 142.634375 89.0875 \nL 162.634375 89.0875 \n\" style=\"fill:none;stroke:#008000;stroke-dasharray:9.6,2.4,1.5,2.4;stroke-dashoffset:0;stroke-width:1.5;\"/>\n    </g>\n    <g id=\"line2d_31\"/>\n    <g id=\"text_15\">\n     <!-- test acc -->\n     <g transform=\"translate(170.634375 92.5875)scale(0.1 -0.1)\">\n      <use xlink:href=\"#DejaVuSans-116\"/>\n      <use x=\"39.208984\" xlink:href=\"#DejaVuSans-101\"/>\n      <use x=\"100.732422\" xlink:href=\"#DejaVuSans-115\"/>\n      <use x=\"152.832031\" xlink:href=\"#DejaVuSans-116\"/>\n      <use x=\"192.041016\" xlink:href=\"#DejaVuSans-32\"/>\n      <use x=\"223.828125\" xlink:href=\"#DejaVuSans-97\"/>\n      <use x=\"285.107422\" xlink:href=\"#DejaVuSans-99\"/>\n      <use x=\"340.087891\" xlink:href=\"#DejaVuSans-99\"/>\n     </g>\n    </g>\n   </g>\n  </g>\n </g>\n <defs>\n  <clipPath id=\"p28a4471971\">\n   <rect height=\"135.9\" width=\"195.3\" x=\"30.103125\" y=\"7.2\"/>\n  </clipPath>\n </defs>\n</svg>\n"
          },
          "metadata": {
            "tags": [],
            "needs_background": "light"
          }
        }
      ]
    },
    {
      "cell_type": "markdown",
      "metadata": {
        "id": "1HwZkfruiaUh"
      },
      "source": [
        "# CP-ResNet\n",
        "\n",
        "- What is Receptive Field:\n",
        "\n",
        "    Sn=Sn−1∗sn \n",
        "\n",
        "    RFn =RFn−1 +(kn −1)∗Sn \n",
        "\n",
        "            sn: stride\n",
        "\n",
        "            Sn: cumulatative stride\n",
        "\n",
        "            Kn: kernel size\n",
        "\n",
        "            RFn: RF of unit from layer n to input\n",
        "\n",
        "\n",
        "- Basic idea:\n",
        "    Filter size at different CNN levels: xk ∈ {1, 3} \n",
        "    \n",
        "    Hyperparameter rho --decide--> filter size --decide--> RF \n",
        " \n",
        "    xk = 3 if k =< rho\n",
        "    \n",
        "    xk = 1 if k > rho\n"
      ]
    },
    {
      "cell_type": "code",
      "metadata": {
        "id": "---hqnKzO8TR"
      },
      "source": [
        ""
      ],
      "execution_count": null,
      "outputs": []
    },
    {
      "cell_type": "code",
      "metadata": {
        "id": "16sWPWztAzOc"
      },
      "source": [
        ""
      ],
      "execution_count": 18,
      "outputs": []
    },
    {
      "cell_type": "code",
      "metadata": {
        "id": "6YkplzuhO7Yj"
      },
      "source": [
        ""
      ],
      "execution_count": null,
      "outputs": []
    },
    {
      "cell_type": "code",
      "metadata": {
        "id": "GHEX9zcqBdnZ"
      },
      "source": [
        ""
      ],
      "execution_count": 18,
      "outputs": []
    },
    {
      "cell_type": "markdown",
      "metadata": {
        "id": "e3rLeawUFWV0"
      },
      "source": [
        ""
      ]
    },
    {
      "cell_type": "code",
      "metadata": {
        "id": "YffH_kYhFCEP"
      },
      "source": [
        ""
      ],
      "execution_count": null,
      "outputs": []
    }
  ]
}