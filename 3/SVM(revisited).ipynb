{
 "cells": [
  {
   "cell_type": "code",
   "execution_count": 1,
   "metadata": {},
   "outputs": [
    {
     "name": "stdout",
     "output_type": "stream",
     "text": [
      "ws:  [-0.45830474 -0.88879512]\n",
      "wt:  [0.81480237 0.57973881]\n",
      "Accuracy of source test data:  0.9425\n",
      "Accuracy of target test data:  0.9575\n"
     ]
    }
   ],
   "source": [
    "import cvxopt\n",
    "import numpy as np\n",
    "import matplotlib.pyplot as plt\n",
    "from cvxopt import matrix as cvx_matrix\n",
    "from cvxopt import solvers as cvx_solvers\n",
    "from sklearn.metrics import accuracy_score\n",
    "\n",
    "filename = 'source_train.csv'\n",
    "data = np.loadtxt(filename, delimiter=',')\n",
    "x1 = data[:,0:-1]\n",
    "y1 = data[:,-1]\n",
    "filename = 'source_test.csv'\n",
    "data = np.loadtxt(filename, delimiter=',')\n",
    "x2 = data[:,0:-1]\n",
    "y2 = data[:,-1]\n",
    "filename = 'target_train.csv'\n",
    "data = np.loadtxt(filename, delimiter=',')\n",
    "x3 = data[:,0:-1]\n",
    "y3 = data[:,-1]\n",
    "filename = 'target_test.csv'\n",
    "data = np.loadtxt(filename, delimiter=',')\n",
    "x4 = data[:,0:-1]\n",
    "y4 = data[:,-1]\n",
    "\n",
    "def cvxopt(x, y): \n",
    "    m,n = x.shape\n",
    "    yd = y.reshape(-1,1) * 1.\n",
    "    xd = yd * x\n",
    "    H = np.dot(xd , xd.T) * 1.\n",
    "    P = cvx_matrix(H)\n",
    "    q = cvx_matrix(-np.ones((m, 1)))\n",
    "    G = cvx_matrix(-np.eye(m))\n",
    "    h = cvx_matrix(np.zeros(m))\n",
    "    A = cvx_matrix(y.reshape(1, -1))\n",
    "    b = cvx_matrix(np.zeros(1))\n",
    "    cvx_solvers.options['show_progress'] = False\n",
    "    sol = cvx_solvers.qp(P, q, G, h, A, b)\n",
    "    alphas = np.array(sol['x'])\n",
    "    return alphas\n",
    "\n",
    "def weight(alphas,x,y):\n",
    "    yd = y.reshape(-1,1) * 1.\n",
    "    w = ((yd * alphas).T @x).reshape(-1,1)\n",
    "    norm = np.linalg.norm(w)\n",
    "    wd=w/norm\n",
    "    wf=wd.reshape(-1)\n",
    "    return wf\n",
    "\n",
    "def accuracy(x,y):\n",
    "    yp=[]\n",
    "    for i in range(y.size):\n",
    "        value=(x[i][0] * wt[0]) + (x[i][1] * wt[1])\n",
    "        if value>0:\n",
    "            yp.append(1)\n",
    "        elif value<0:\n",
    "            yp.append(-1)\n",
    "    predict_list=np.array(yp)\n",
    "    accuracy=accuracy_score(y, predict_list)\n",
    "    return accuracy\n",
    "\n",
    "\n",
    "alpha1=cvxopt(x1,y1)\n",
    "alpha2=cvxopt(x3,y3)\n",
    "ws=weight(alpha1,x1,y1)\n",
    "wt=weight(alpha2,x3,y3)\n",
    "print(\"ws: \",ws)\n",
    "print(\"wt: \",wt)\n",
    "print(\"Accuracy of source test data: \",accuracy(x2,y2) )\n",
    "print(\"Accuracy of target test data: \",accuracy(x4,y4) )"
   ]
  },
  {
   "cell_type": "code",
   "execution_count": null,
   "metadata": {},
   "outputs": [],
   "source": []
  },
  {
   "cell_type": "code",
   "execution_count": null,
   "metadata": {},
   "outputs": [],
   "source": []
  },
  {
   "cell_type": "code",
   "execution_count": null,
   "metadata": {},
   "outputs": [],
   "source": []
  }
 ],
 "metadata": {
  "kernelspec": {
   "display_name": "Python 3",
   "language": "python",
   "name": "python3"
  },
  "language_info": {
   "codemirror_mode": {
    "name": "ipython",
    "version": 3
   },
   "file_extension": ".py",
   "mimetype": "text/x-python",
   "name": "python",
   "nbconvert_exporter": "python",
   "pygments_lexer": "ipython3",
   "version": "3.7.6"
  }
 },
 "nbformat": 4,
 "nbformat_minor": 4
}
