{
 "cells": [
  {
   "cell_type": "code",
   "execution_count": 51,
   "metadata": {},
   "outputs": [
    {
     "name": "stdout",
     "output_type": "stream",
     "text": [
      "[[-0.927278  7.61825   7.61825 ]\n",
      " [-1.17433   1.28188   1.28188 ]\n",
      " [-1.05081   1.79564   1.79564 ]\n",
      " ...\n",
      " [ 1.66679  -0.430651 -0.430651]\n",
      " [ 3.64322  -0.773158 -0.773158]\n",
      " [ 7.71961  -0.773158 -0.773158]]\n",
      "[[-2.59292496 -2.59292496 -2.59292496 ... -2.59292056 -2.59292056\n",
      "  -2.59292056]\n",
      " [ 5.40153955  5.40153955  5.40153955 ...  5.40153905  5.40153905\n",
      "   5.40153905]\n",
      " [ 5.40153955  5.40153955  5.40153955 ...  5.40153905  5.40153905\n",
      "   5.40153905]]\n"
     ]
    },
    {
     "data": {
      "image/png": "[encoded data removed]",
      "text/plain": [
       "<Figure size 432x288 with 1 Axes>"
      ]
     },
     "metadata": {
      "needs_background": "light"
     },
     "output_type": "display_data"
    }
   ],
   "source": [
    "import numpy as np\n",
    "import matplotlib.pyplot as plt\n",
    "from sklearn.preprocessing import PolynomialFeatures\n",
    "from numpy import *\n",
    "\n",
    "filename = 'blood.txt'\n",
    "data = np.loadtxt(filename, delimiter=',')\n",
    "x = data[:,:col]\n",
    "y = data[:,-1]\n",
    "\n",
    "print(x)\n",
    "\n",
    "X = mat(x)\n",
    "Y = mat(y)\n",
    "row, col = shape(X)\n",
    "\n",
    "alpha= 0.05\n",
    "itera=10\n",
    "\n",
    "def sigmoid(inX):\n",
    "    sigmoid = 1./(1+exp(-inX))\n",
    "    return sigmoid\n",
    "w = ones((3, 1))\n",
    "for k in range(itera):\n",
    "    h = sigmoid((X * w).transpose())\n",
    "    error = (Y - h.transpose())\n",
    "    w = w + alpha * X.transpose()*error\n",
    "\n",
    "print(w)\n",
    "plt.plot(w)\n",
    "plt.show()\n"
   ]
  },
  {
   "cell_type": "code",
   "execution_count": null,
   "metadata": {},
   "outputs": [],
   "source": []
  },
  {
   "cell_type": "code",
   "execution_count": null,
   "metadata": {},
   "outputs": [],
   "source": []
  }
 ],
 "metadata": {
  "kernelspec": {
   "display_name": "Python 3",
   "language": "python",
   "name": "python3"
  },
  "language_info": {
   "codemirror_mode": {
    "name": "ipython",
    "version": 3
   },
   "file_extension": ".py",
   "mimetype": "text/x-python",
   "name": "python",
   "nbconvert_exporter": "python",
   "pygments_lexer": "ipython3",
   "version": "3.7.6"
  }
 },
 "nbformat": 4,
 "nbformat_minor": 2
}
