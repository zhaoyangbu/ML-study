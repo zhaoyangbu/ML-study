{
 "cells": [
  {
   "cell_type": "code",
   "execution_count": 6,
   "metadata": {},
   "outputs": [
    {
     "name": "stdout",
     "output_type": "stream",
     "text": [
      "spambase_train.csv\n",
      "5-fold cross validation error before PCA: 0.806250\n",
      "5-fold cross validation error after PCA: 0.637772\n",
      "bank.csv\n",
      "5-fold cross validation error before PCA: 0.850482\n",
      "5-fold cross validation error after PCA: 0.875473\n",
      "blood_train.csv\n",
      "5-fold cross validation error before PCA: 0.754300\n",
      "5-fold cross validation error after PCA: 0.759244\n",
      "breast-cancer.csv\n",
      "5-fold cross validation error before PCA: 0.702843\n",
      "5-fold cross validation error after PCA: 0.695765\n",
      "car.csv\n",
      "5-fold cross validation error before PCA: 0.678792\n",
      "5-fold cross validation error after PCA: 0.700233\n",
      "chess-krvk.csv\n",
      "5-fold cross validation error before PCA: 0.120512\n",
      "5-fold cross validation error after PCA: 0.150597\n",
      "congressional-voting.csv\n",
      "5-fold cross validation error before PCA: 0.478161\n",
      "5-fold cross validation error after PCA: 0.604598\n",
      "cylinder-bands.csv\n",
      "5-fold cross validation error before PCA: 0.538683\n",
      "5-fold cross validation error after PCA: 0.599619\n",
      "ecoli.csv\n",
      "5-fold cross validation error before PCA: 0.672651\n",
      "5-fold cross validation error after PCA: 0.592142\n",
      "glass.csv\n",
      "5-fold cross validation error before PCA: 0.387154\n",
      "5-fold cross validation error after PCA: 0.419934\n"
     ]
    },
    {
     "name": "stderr",
     "output_type": "stream",
     "text": [
      "C:\\Users\\Administrator\\Anaconda3\\lib\\site-packages\\sklearn\\model_selection\\_split.py:667: UserWarning: The least populated class in y has only 2 members, which is less than n_splits=5.\n",
      "  % (min_groups, self.n_splits)), UserWarning)\n",
      "C:\\Users\\Administrator\\Anaconda3\\lib\\site-packages\\sklearn\\model_selection\\_split.py:667: UserWarning: The least populated class in y has only 2 members, which is less than n_splits=5.\n",
      "  % (min_groups, self.n_splits)), UserWarning)\n"
     ]
    }
   ],
   "source": [
    "import numpy as np\n",
    "from sklearn.model_selection import train_test_split\n",
    "from sklearn.naive_bayes import GaussianNB\n",
    "from sklearn.model_selection import cross_val_score\n",
    "from sklearn.decomposition import PCA\n",
    "\n",
    "def comparison(filename,n_components):\n",
    "    data = np.loadtxt(filename, delimiter=',')\n",
    "    x = data[:,0:-2]\n",
    "    y = data[:,-1]\n",
    "    gnb = GaussianNB()\n",
    "    cve = cross_val_score(gnb, x, y, cv=5)\n",
    "    f=filename\n",
    "    print(f)\n",
    "    print(\"5-fold cross validation error before PCA: {0:f}\".format(np.mean(cve)))\n",
    "    \n",
    "    pca = PCA(n_components) \n",
    "    pca.fit(x)                \n",
    "    xhat=pca.fit_transform(x) \n",
    "    #print(xhat)\n",
    "    gnb = GaussianNB()\n",
    "    cve = cross_val_score(gnb, xhat, y, cv=5)\n",
    "    print(\"5-fold cross validation error after PCA: {0:f}\".format(np.mean(cve)))\n",
    "\n",
    "    \n",
    "comparison( 'spambase_train.csv',1)\n",
    "comparison( 'bank.csv',1)\n",
    "comparison( 'blood_train.csv',1)\n",
    "comparison( 'breast-cancer.csv',1)\n",
    "comparison( 'car.csv',1)\n",
    "comparison( 'chess-krvk.csv',1)\n",
    "comparison( 'congressional-voting.csv',1)\n",
    "comparison( 'cylinder-bands.csv',1)\n",
    "comparison( 'ecoli.csv',1)\n",
    "comparison( 'glass.csv',1)\n",
    "    "
   ]
  },
  {
   "cell_type": "code",
   "execution_count": null,
   "metadata": {},
   "outputs": [],
   "source": []
  }
 ],
 "metadata": {
  "kernelspec": {
   "display_name": "Python 3",
   "language": "python",
   "name": "python3"
  },
  "language_info": {
   "codemirror_mode": {
    "name": "ipython",
    "version": 3
   },
   "file_extension": ".py",
   "mimetype": "text/x-python",
   "name": "python",
   "nbconvert_exporter": "python",
   "pygments_lexer": "ipython3",
   "version": "3.7.6"
  }
 },
 "nbformat": 4,
 "nbformat_minor": 2
}
